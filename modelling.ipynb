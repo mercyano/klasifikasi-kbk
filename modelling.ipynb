{
 "cells": [
  {
   "cell_type": "markdown",
   "metadata": {},
   "source": [
    "# Load Preprocessed Data"
   ]
  },
  {
   "cell_type": "code",
   "execution_count": 10,
   "metadata": {},
   "outputs": [
    {
     "data": {
      "text/html": [
       "<div>\n",
       "<style scoped>\n",
       "    .dataframe tbody tr th:only-of-type {\n",
       "        vertical-align: middle;\n",
       "    }\n",
       "\n",
       "    .dataframe tbody tr th {\n",
       "        vertical-align: top;\n",
       "    }\n",
       "\n",
       "    .dataframe thead th {\n",
       "        text-align: right;\n",
       "    }\n",
       "</style>\n",
       "<table border=\"1\" class=\"dataframe\">\n",
       "  <thead>\n",
       "    <tr style=\"text-align: right;\">\n",
       "      <th></th>\n",
       "      <th>Unnamed: 0</th>\n",
       "      <th>id</th>\n",
       "      <th>judul</th>\n",
       "      <th>abstrak</th>\n",
       "      <th>kbk</th>\n",
       "      <th>judul_tokens</th>\n",
       "      <th>abstrak_tokens</th>\n",
       "    </tr>\n",
       "  </thead>\n",
       "  <tbody>\n",
       "    <tr>\n",
       "      <th>0</th>\n",
       "      <td>0</td>\n",
       "      <td>1</td>\n",
       "      <td>pengembangan sistem pendukung keputusan untuk ...</td>\n",
       "      <td>sistem pendukung keputusan spk merupakan suatu...</td>\n",
       "      <td>Pengembangan Aplikasi dan Media Pembelajaran T...</td>\n",
       "      <td>kembang sistem dukung putus untuk tentu dosen ...</td>\n",
       "      <td>sistem dukung putus spk rupa suatu sistem yang...</td>\n",
       "    </tr>\n",
       "    <tr>\n",
       "      <th>1</th>\n",
       "      <td>1</td>\n",
       "      <td>3</td>\n",
       "      <td>hubungan efikasi diri dengan kesiapan kerja lu...</td>\n",
       "      <td>pandemi covid 19 yang melanda dunia terutama i...</td>\n",
       "      <td>Ketenegakerjaan Teknologi dan Kejuruan</td>\n",
       "      <td>hubung efikasi diri dengan kesiap kerja lulus ...</td>\n",
       "      <td>pandemi covid 19 yang landa dunia utama indone...</td>\n",
       "    </tr>\n",
       "    <tr>\n",
       "      <th>2</th>\n",
       "      <td>2</td>\n",
       "      <td>4</td>\n",
       "      <td>alat bantu penyandang tuetra berbasis deteksi ...</td>\n",
       "      <td>tujuan dilakukannya penelitian ini untuk memba...</td>\n",
       "      <td>Biomedic and Intelligent Assistive Technology ...</td>\n",
       "      <td>alat bantu sandang tuetra bas deteksi objek ca...</td>\n",
       "      <td>tuju laku teliti ini untuk bantu sandang tuetr...</td>\n",
       "    </tr>\n",
       "    <tr>\n",
       "      <th>3</th>\n",
       "      <td>3</td>\n",
       "      <td>6</td>\n",
       "      <td>analisis thermovisi penghantar akibat transmis...</td>\n",
       "      <td>gardu induk waru merupakan sub transmisi listr...</td>\n",
       "      <td>Intelligent Power Electronics and Smart Grid (...</td>\n",
       "      <td>analisis thermovisi hantar akibat transmission...</td>\n",
       "      <td>gardu induk waru rupa sub transmisi listrik ya...</td>\n",
       "    </tr>\n",
       "    <tr>\n",
       "      <th>4</th>\n",
       "      <td>4</td>\n",
       "      <td>7</td>\n",
       "      <td>pengembangan modulberbasis production based ed...</td>\n",
       "      <td>mata pelajaran dasar desain grafis merupakan m...</td>\n",
       "      <td>Pengembangan Aplikasi dan Media Pembelajaran T...</td>\n",
       "      <td>kembang modulberbasis production based educati...</td>\n",
       "      <td>mata ajar dasar desain grafis rupa mata ajar y...</td>\n",
       "    </tr>\n",
       "  </tbody>\n",
       "</table>\n",
       "</div>"
      ],
      "text/plain": [
       "   Unnamed: 0  id                                              judul  \\\n",
       "0           0   1  pengembangan sistem pendukung keputusan untuk ...   \n",
       "1           1   3  hubungan efikasi diri dengan kesiapan kerja lu...   \n",
       "2           2   4  alat bantu penyandang tuetra berbasis deteksi ...   \n",
       "3           3   6  analisis thermovisi penghantar akibat transmis...   \n",
       "4           4   7  pengembangan modulberbasis production based ed...   \n",
       "\n",
       "                                             abstrak  \\\n",
       "0  sistem pendukung keputusan spk merupakan suatu...   \n",
       "1  pandemi covid 19 yang melanda dunia terutama i...   \n",
       "2  tujuan dilakukannya penelitian ini untuk memba...   \n",
       "3  gardu induk waru merupakan sub transmisi listr...   \n",
       "4  mata pelajaran dasar desain grafis merupakan m...   \n",
       "\n",
       "                                                 kbk  \\\n",
       "0  Pengembangan Aplikasi dan Media Pembelajaran T...   \n",
       "1             Ketenegakerjaan Teknologi dan Kejuruan   \n",
       "2  Biomedic and Intelligent Assistive Technology ...   \n",
       "3  Intelligent Power Electronics and Smart Grid (...   \n",
       "4  Pengembangan Aplikasi dan Media Pembelajaran T...   \n",
       "\n",
       "                                        judul_tokens  \\\n",
       "0  kembang sistem dukung putus untuk tentu dosen ...   \n",
       "1  hubung efikasi diri dengan kesiap kerja lulus ...   \n",
       "2  alat bantu sandang tuetra bas deteksi objek ca...   \n",
       "3  analisis thermovisi hantar akibat transmission...   \n",
       "4  kembang modulberbasis production based educati...   \n",
       "\n",
       "                                      abstrak_tokens  \n",
       "0  sistem dukung putus spk rupa suatu sistem yang...  \n",
       "1  pandemi covid 19 yang landa dunia utama indone...  \n",
       "2  tuju laku teliti ini untuk bantu sandang tuetr...  \n",
       "3  gardu induk waru rupa sub transmisi listrik ya...  \n",
       "4  mata ajar dasar desain grafis rupa mata ajar y...  "
      ]
     },
     "execution_count": 10,
     "metadata": {},
     "output_type": "execute_result"
    }
   ],
   "source": [
    "import numpy as np\n",
    "import pandas as pd\n",
    "\n",
    "df = pd.read_csv('cleaned-data-kbk.csv')\n",
    "df.head()"
   ]
  },
  {
   "cell_type": "markdown",
   "metadata": {},
   "source": [
    "# Split Data"
   ]
  },
  {
   "cell_type": "code",
   "execution_count": 11,
   "metadata": {},
   "outputs": [],
   "source": [
    "from sklearn.model_selection import train_test_split\n",
    "\n",
    "X = df['judul_tokens']\n",
    "y = df['kbk']\n",
    "\n",
    "X_train, X_test, y_train, y_test = train_test_split(X, y, test_size=0.3, random_state=42)"
   ]
  },
  {
   "cell_type": "markdown",
   "metadata": {},
   "source": [
    "# Feature Extraction: TF-IDF"
   ]
  },
  {
   "cell_type": "code",
   "execution_count": 13,
   "metadata": {},
   "outputs": [
    {
     "data": {
      "text/plain": [
       "(886, 2452)"
      ]
     },
     "execution_count": 13,
     "metadata": {},
     "output_type": "execute_result"
    }
   ],
   "source": [
    "from sklearn.feature_extraction.text import TfidfVectorizer\n",
    "vectorizer = TfidfVectorizer()\n",
    "\n",
    "X_train_tfidf = vectorizer.fit_transform(X_train)\n",
    "X_test_tfidf = vectorizer.transform(X_test)\n",
    "\n",
    "X_train_tfidf.shape"
   ]
  },
  {
   "cell_type": "markdown",
   "metadata": {},
   "source": [
    "\n",
    "# Oversampling: SMOTE"
   ]
  },
  {
   "cell_type": "code",
   "execution_count": 14,
   "metadata": {},
   "outputs": [
    {
     "data": {
      "text/plain": [
       "Pengembangan Aplikasi dan Media Pembelajaran Teknologi dan Kejuruan              198\n",
       "Strategi Pembelajaran Teknologi dan Kejuruan                                     148\n",
       "Kurikulum Pendidikan Teknologi dan Kejuruan                                       70\n",
       "Rekayasa pengetahuan dan ilmu data (Knowledge Engineering and Data Science)       68\n",
       "Intelligent Power Electronics and Smart Grid (IPESG)                              64\n",
       "Intelligent Power and Advanced energy System (IPAES)                              59\n",
       "Game Technology and Machine Learning Applications                                 56\n",
       "Ketenegakerjaan Teknologi dan Kejuruan                                            55\n",
       "Evaluasi dan Pengelolaan Pendidikan Kejuruan                                      44\n",
       "Telematics loT System and Devices                                                 42\n",
       "Teknologi Digital Cerdas (Ubiquitous Computing Technique)                         41\n",
       "Biomedic and Intelligent Assistive Technology (TAT)                               25\n",
       "Sistem Dinamis, Kendali, dan Robotika (Dynamic Systems, Control and Robotics)     16\n",
       "Name: kbk, dtype: int64"
      ]
     },
     "execution_count": 14,
     "metadata": {},
     "output_type": "execute_result"
    }
   ],
   "source": [
    "y_train.value_counts()"
   ]
  },
  {
   "cell_type": "code",
   "execution_count": 15,
   "metadata": {},
   "outputs": [
    {
     "data": {
      "text/plain": [
       "Sistem Dinamis, Kendali, dan Robotika (Dynamic Systems, Control and Robotics)    198\n",
       "Evaluasi dan Pengelolaan Pendidikan Kejuruan                                     198\n",
       "Telematics loT System and Devices                                                198\n",
       "Game Technology and Machine Learning Applications                                198\n",
       "Biomedic and Intelligent Assistive Technology (TAT)                              198\n",
       "Kurikulum Pendidikan Teknologi dan Kejuruan                                      198\n",
       "Intelligent Power Electronics and Smart Grid (IPESG)                             198\n",
       "Pengembangan Aplikasi dan Media Pembelajaran Teknologi dan Kejuruan              198\n",
       "Intelligent Power and Advanced energy System (IPAES)                             198\n",
       "Strategi Pembelajaran Teknologi dan Kejuruan                                     198\n",
       "Rekayasa pengetahuan dan ilmu data (Knowledge Engineering and Data Science)      198\n",
       "Ketenegakerjaan Teknologi dan Kejuruan                                           198\n",
       "Teknologi Digital Cerdas (Ubiquitous Computing Technique)                        198\n",
       "Name: kbk, dtype: int64"
      ]
     },
     "execution_count": 15,
     "metadata": {},
     "output_type": "execute_result"
    }
   ],
   "source": [
    "from imblearn.over_sampling import SMOTE\n",
    "\n",
    "X_train_resampled, y_train_resampled = SMOTE(random_state=42).fit_resample(X_train_tfidf, y_train)\n",
    "\n",
    "y_train_resampled.value_counts()"
   ]
  },
  {
   "cell_type": "markdown",
   "metadata": {},
   "source": [
    "# Training Model"
   ]
  },
  {
   "cell_type": "code",
   "execution_count": 16,
   "metadata": {},
   "outputs": [],
   "source": [
    "from sklearn.svm import LinearSVC\n",
    "clf = LinearSVC()\n",
    "\n",
    "model = clf.fit(X_train_resampled,y_train_resampled)"
   ]
  },
  {
   "cell_type": "markdown",
   "metadata": {},
   "source": [
    "# Evaluation"
   ]
  },
  {
   "cell_type": "code",
   "execution_count": 18,
   "metadata": {},
   "outputs": [],
   "source": [
    "predictions = model.predict(X_test_tfidf)"
   ]
  },
  {
   "cell_type": "code",
   "execution_count": 19,
   "metadata": {},
   "outputs": [
    {
     "name": "stdout",
     "output_type": "stream",
     "text": [
      "[[ 3  0  0  0  0  0  0  0  0  0  1  0  3]\n",
      " [ 0  5  0  0  0  2  4  2  0  0  5  0  0]\n",
      " [ 0  0 10  0  0  0  0  1 10  0  2  1  0]\n",
      " [ 0  0  0 16  5  1  1  0  0  0  0  1  0]\n",
      " [ 0  0  1  7 21  0  0  0  0  1  0  0  1]\n",
      " [ 0  3  0  0  0 14  9  2  0  0  1  0  1]\n",
      " [ 0  1  0  0  0  3 15  2  0  0  5  0  0]\n",
      " [ 0  1  3  0  0  0  0 72  1  0  7  1  0]\n",
      " [ 0  0  4  0  0  0  0  1 25  0  0  1  0]\n",
      " [ 2  0  1  1  0  0  0  0  0  2  0  0  0]\n",
      " [ 0  7  0  0  0  0  4 20  0  0 30  0  0]\n",
      " [ 1  1  0  0  0  0  0  1  2  0  0 16  0]\n",
      " [ 4  0  0  2  0  0  0  0  0  0  0  1  9]]\n"
     ]
    }
   ],
   "source": [
    "# Report the confusion matrix\n",
    "from sklearn import metrics\n",
    "print(metrics.confusion_matrix(y_test,predictions))"
   ]
  },
  {
   "cell_type": "code",
   "execution_count": 20,
   "metadata": {},
   "outputs": [
    {
     "name": "stdout",
     "output_type": "stream",
     "text": [
      "                                                                               precision    recall  f1-score   support\n",
      "\n",
      "                          Biomedic and Intelligent Assistive Technology (TAT)       0.30      0.43      0.35         7\n",
      "                                 Evaluasi dan Pengelolaan Pendidikan Kejuruan       0.28      0.28      0.28        18\n",
      "                            Game Technology and Machine Learning Applications       0.53      0.42      0.47        24\n",
      "                         Intelligent Power Electronics and Smart Grid (IPESG)       0.62      0.67      0.64        24\n",
      "                         Intelligent Power and Advanced energy System (IPAES)       0.81      0.68      0.74        31\n",
      "                                       Ketenegakerjaan Teknologi dan Kejuruan       0.70      0.47      0.56        30\n",
      "                                  Kurikulum Pendidikan Teknologi dan Kejuruan       0.45      0.58      0.51        26\n",
      "          Pengembangan Aplikasi dan Media Pembelajaran Teknologi dan Kejuruan       0.71      0.85      0.77        85\n",
      "  Rekayasa pengetahuan dan ilmu data (Knowledge Engineering and Data Science)       0.66      0.81      0.72        31\n",
      "Sistem Dinamis, Kendali, dan Robotika (Dynamic Systems, Control and Robotics)       0.67      0.33      0.44         6\n",
      "                                 Strategi Pembelajaran Teknologi dan Kejuruan       0.59      0.49      0.54        61\n",
      "                    Teknologi Digital Cerdas (Ubiquitous Computing Technique)       0.76      0.76      0.76        21\n",
      "                                            Telematics loT System and Devices       0.64      0.56      0.60        16\n",
      "\n",
      "                                                                     accuracy                           0.63       380\n",
      "                                                                    macro avg       0.59      0.56      0.57       380\n",
      "                                                                 weighted avg       0.63      0.63      0.62       380\n",
      "\n"
     ]
    }
   ],
   "source": [
    "# Print a classification report\n",
    "print(metrics.classification_report(y_test,predictions))"
   ]
  },
  {
   "cell_type": "code",
   "execution_count": 27,
   "metadata": {},
   "outputs": [
    {
     "name": "stdout",
     "output_type": "stream",
     "text": [
      "Accuracy score :  0.6263157894736842\n",
      "Precision score :  0.6303008330215241\n",
      "Recall score :  0.6263157894736842\n",
      "F1 score :  0.6212402131664754\n"
     ]
    }
   ],
   "source": [
    "# Print the overall metrics\n",
    "print('Accuracy score : ', accuracy_score(y_test, predictions))\n",
    "print('Precision score : ', precision_score(y_test, predictions, average='weighted'))\n",
    "print('Recall score : ', recall_score(y_test, predictions, average='weighted'))\n",
    "print('F1 score : ', f1_score(y_test, predictions, average='weighted'))"
   ]
  },
  {
   "cell_type": "markdown",
   "metadata": {},
   "source": [
    "# Export Model"
   ]
  },
  {
   "cell_type": "code",
   "execution_count": 28,
   "metadata": {},
   "outputs": [
    {
     "data": {
      "text/plain": [
       "['svm-model.joblib']"
      ]
     },
     "execution_count": 28,
     "metadata": {},
     "output_type": "execute_result"
    }
   ],
   "source": [
    "from joblib import dump\n",
    "\n",
    "dump(model, filename=\"svm-model.joblib\")"
   ]
  }
 ],
 "metadata": {
  "kernelspec": {
   "display_name": "Python 3.8.3 ('base')",
   "language": "python",
   "name": "python3"
  },
  "language_info": {
   "codemirror_mode": {
    "name": "ipython",
    "version": 3
   },
   "file_extension": ".py",
   "mimetype": "text/x-python",
   "name": "python",
   "nbconvert_exporter": "python",
   "pygments_lexer": "ipython3",
   "version": "3.8.3"
  },
  "orig_nbformat": 4,
  "vscode": {
   "interpreter": {
    "hash": "a90aeebcf29d64a654773811cc170cb25061cb2498f10ac689db374c7bf325de"
   }
  }
 },
 "nbformat": 4,
 "nbformat_minor": 2
}
