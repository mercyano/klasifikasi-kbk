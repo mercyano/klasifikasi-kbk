{
 "cells": [
  {
   "cell_type": "markdown",
   "metadata": {},
   "source": [
    "# Load Preprocessed Data"
   ]
  },
  {
   "cell_type": "code",
   "execution_count": 46,
   "metadata": {},
   "outputs": [
    {
     "data": {
      "text/html": [
       "<div>\n",
       "<style scoped>\n",
       "    .dataframe tbody tr th:only-of-type {\n",
       "        vertical-align: middle;\n",
       "    }\n",
       "\n",
       "    .dataframe tbody tr th {\n",
       "        vertical-align: top;\n",
       "    }\n",
       "\n",
       "    .dataframe thead th {\n",
       "        text-align: right;\n",
       "    }\n",
       "</style>\n",
       "<table border=\"1\" class=\"dataframe\">\n",
       "  <thead>\n",
       "    <tr style=\"text-align: right;\">\n",
       "      <th></th>\n",
       "      <th>Unnamed: 0</th>\n",
       "      <th>id</th>\n",
       "      <th>judul</th>\n",
       "      <th>abstrak</th>\n",
       "      <th>kbk</th>\n",
       "      <th>judul_tokens</th>\n",
       "      <th>abstrak_tokens</th>\n",
       "    </tr>\n",
       "  </thead>\n",
       "  <tbody>\n",
       "    <tr>\n",
       "      <th>0</th>\n",
       "      <td>0</td>\n",
       "      <td>1</td>\n",
       "      <td>pengembangan sistem pendukung keputusan untuk ...</td>\n",
       "      <td>sistem pendukung keputusan spk merupakan suatu...</td>\n",
       "      <td>Pengembangan Aplikasi dan Media Pembelajaran T...</td>\n",
       "      <td>kembang sistem dukung putus untuk tentu dosen ...</td>\n",
       "      <td>sistem dukung putus spk rupa suatu sistem yang...</td>\n",
       "    </tr>\n",
       "    <tr>\n",
       "      <th>1</th>\n",
       "      <td>1</td>\n",
       "      <td>3</td>\n",
       "      <td>hubungan efikasi diri dengan kesiapan kerja lu...</td>\n",
       "      <td>pandemi covid 19 yang melanda dunia terutama i...</td>\n",
       "      <td>Ketenegakerjaan Teknologi dan Kejuruan</td>\n",
       "      <td>hubung efikasi diri dengan kesiap kerja lulus ...</td>\n",
       "      <td>pandemi covid 19 yang landa dunia utama indone...</td>\n",
       "    </tr>\n",
       "    <tr>\n",
       "      <th>2</th>\n",
       "      <td>2</td>\n",
       "      <td>4</td>\n",
       "      <td>alat bantu penyandang tuetra berbasis deteksi ...</td>\n",
       "      <td>tujuan dilakukannya penelitian ini untuk memba...</td>\n",
       "      <td>Biomedic and Intelligent Assistive Technology ...</td>\n",
       "      <td>alat bantu sandang tuetra bas deteksi objek ca...</td>\n",
       "      <td>tuju laku teliti ini untuk bantu sandang tuetr...</td>\n",
       "    </tr>\n",
       "    <tr>\n",
       "      <th>3</th>\n",
       "      <td>3</td>\n",
       "      <td>6</td>\n",
       "      <td>analisis thermovisi penghantar akibat transmis...</td>\n",
       "      <td>gardu induk waru merupakan sub transmisi listr...</td>\n",
       "      <td>Intelligent Power Electronics and Smart Grid (...</td>\n",
       "      <td>analisis thermovisi hantar akibat transmission...</td>\n",
       "      <td>gardu induk waru rupa sub transmisi listrik ya...</td>\n",
       "    </tr>\n",
       "    <tr>\n",
       "      <th>4</th>\n",
       "      <td>4</td>\n",
       "      <td>7</td>\n",
       "      <td>pengembangan modulberbasis production based ed...</td>\n",
       "      <td>mata pelajaran dasar desain grafis merupakan m...</td>\n",
       "      <td>Pengembangan Aplikasi dan Media Pembelajaran T...</td>\n",
       "      <td>kembang modulberbasis production based educati...</td>\n",
       "      <td>mata ajar dasar desain grafis rupa mata ajar y...</td>\n",
       "    </tr>\n",
       "  </tbody>\n",
       "</table>\n",
       "</div>"
      ],
      "text/plain": [
       "   Unnamed: 0  id                                              judul  \\\n",
       "0           0   1  pengembangan sistem pendukung keputusan untuk ...   \n",
       "1           1   3  hubungan efikasi diri dengan kesiapan kerja lu...   \n",
       "2           2   4  alat bantu penyandang tuetra berbasis deteksi ...   \n",
       "3           3   6  analisis thermovisi penghantar akibat transmis...   \n",
       "4           4   7  pengembangan modulberbasis production based ed...   \n",
       "\n",
       "                                             abstrak  \\\n",
       "0  sistem pendukung keputusan spk merupakan suatu...   \n",
       "1  pandemi covid 19 yang melanda dunia terutama i...   \n",
       "2  tujuan dilakukannya penelitian ini untuk memba...   \n",
       "3  gardu induk waru merupakan sub transmisi listr...   \n",
       "4  mata pelajaran dasar desain grafis merupakan m...   \n",
       "\n",
       "                                                 kbk  \\\n",
       "0  Pengembangan Aplikasi dan Media Pembelajaran T...   \n",
       "1             Ketenegakerjaan Teknologi dan Kejuruan   \n",
       "2  Biomedic and Intelligent Assistive Technology ...   \n",
       "3  Intelligent Power Electronics and Smart Grid (...   \n",
       "4  Pengembangan Aplikasi dan Media Pembelajaran T...   \n",
       "\n",
       "                                        judul_tokens  \\\n",
       "0  kembang sistem dukung putus untuk tentu dosen ...   \n",
       "1  hubung efikasi diri dengan kesiap kerja lulus ...   \n",
       "2  alat bantu sandang tuetra bas deteksi objek ca...   \n",
       "3  analisis thermovisi hantar akibat transmission...   \n",
       "4  kembang modulberbasis production based educati...   \n",
       "\n",
       "                                      abstrak_tokens  \n",
       "0  sistem dukung putus spk rupa suatu sistem yang...  \n",
       "1  pandemi covid 19 yang landa dunia utama indone...  \n",
       "2  tuju laku teliti ini untuk bantu sandang tuetr...  \n",
       "3  gardu induk waru rupa sub transmisi listrik ya...  \n",
       "4  mata ajar dasar desain grafis rupa mata ajar y...  "
      ]
     },
     "execution_count": 46,
     "metadata": {},
     "output_type": "execute_result"
    }
   ],
   "source": [
    "import numpy as np\n",
    "import pandas as pd\n",
    "\n",
    "df = pd.read_csv('cleaned-data-kbk.csv')\n",
    "df.head()"
   ]
  },
  {
   "cell_type": "markdown",
   "metadata": {},
   "source": [
    "# Split Data"
   ]
  },
  {
   "cell_type": "code",
   "execution_count": 47,
   "metadata": {},
   "outputs": [],
   "source": [
    "from sklearn.model_selection import train_test_split\n",
    "\n",
    "X = df['judul_tokens']\n",
    "y = df['kbk']\n",
    "\n",
    "X_train, X_test, y_train, y_test = train_test_split(X, y, test_size=0.3, random_state=42)"
   ]
  },
  {
   "cell_type": "markdown",
   "metadata": {},
   "source": [
    "# Feature Extraction: TF-IDF"
   ]
  },
  {
   "cell_type": "code",
   "execution_count": 48,
   "metadata": {},
   "outputs": [
    {
     "data": {
      "text/plain": [
       "(884, 2405)"
      ]
     },
     "execution_count": 48,
     "metadata": {},
     "output_type": "execute_result"
    }
   ],
   "source": [
    "from sklearn.feature_extraction.text import TfidfVectorizer\n",
    "vectorizer = TfidfVectorizer()\n",
    "\n",
    "X_train_tfidf = vectorizer.fit_transform(X_train)\n",
    "X_test_tfidf = vectorizer.transform(X_test)\n",
    "\n",
    "X_train_tfidf.shape"
   ]
  },
  {
   "cell_type": "markdown",
   "metadata": {},
   "source": [
    "\n",
    "# Oversampling: SMOTE"
   ]
  },
  {
   "cell_type": "code",
   "execution_count": 49,
   "metadata": {},
   "outputs": [
    {
     "data": {
      "text/plain": [
       "Pengembangan Aplikasi dan Media Pembelajaran Teknologi dan Kejuruan              194\n",
       "Strategi Pembelajaran Teknologi dan Kejuruan                                     147\n",
       "Kurikulum Pendidikan Teknologi dan Kejuruan                                       72\n",
       "Intelligent Power and Advanced energy System (IPAES)                              68\n",
       "Rekayasa pengetahuan dan ilmu data (Knowledge Engineering and Data Science)       66\n",
       "Intelligent Power Electronics and Smart Grid (IPESG)                              64\n",
       "Ketenegakerjaan Teknologi dan Kejuruan                                            54\n",
       "Game Technology and Machine Learning Applications                                 53\n",
       "Evaluasi dan Pengelolaan Pendidikan Kejuruan                                      47\n",
       "Telematics loT System and Devices                                                 44\n",
       "Teknologi Digital Cerdas (Ubiquitous Computing Technique)                         41\n",
       "Biomedic and Intelligent Assistive Technology (TAT)                               19\n",
       "Sistem Dinamis, Kendali, dan Robotika (Dynamic Systems, Control and Robotics)     15\n",
       "Name: kbk, dtype: int64"
      ]
     },
     "execution_count": 49,
     "metadata": {},
     "output_type": "execute_result"
    }
   ],
   "source": [
    "y_train.value_counts()"
   ]
  },
  {
   "cell_type": "code",
   "execution_count": 50,
   "metadata": {},
   "outputs": [
    {
     "data": {
      "text/plain": [
       "Teknologi Digital Cerdas (Ubiquitous Computing Technique)                        194\n",
       "Biomedic and Intelligent Assistive Technology (TAT)                              194\n",
       "Telematics loT System and Devices                                                194\n",
       "Evaluasi dan Pengelolaan Pendidikan Kejuruan                                     194\n",
       "Ketenegakerjaan Teknologi dan Kejuruan                                           194\n",
       "Intelligent Power and Advanced energy System (IPAES)                             194\n",
       "Kurikulum Pendidikan Teknologi dan Kejuruan                                      194\n",
       "Pengembangan Aplikasi dan Media Pembelajaran Teknologi dan Kejuruan              194\n",
       "Rekayasa pengetahuan dan ilmu data (Knowledge Engineering and Data Science)      194\n",
       "Intelligent Power Electronics and Smart Grid (IPESG)                             194\n",
       "Game Technology and Machine Learning Applications                                194\n",
       "Sistem Dinamis, Kendali, dan Robotika (Dynamic Systems, Control and Robotics)    194\n",
       "Strategi Pembelajaran Teknologi dan Kejuruan                                     194\n",
       "Name: kbk, dtype: int64"
      ]
     },
     "execution_count": 50,
     "metadata": {},
     "output_type": "execute_result"
    }
   ],
   "source": [
    "from imblearn.over_sampling import SMOTE\n",
    "\n",
    "X_train_resampled, y_train_resampled = SMOTE(random_state=42).fit_resample(X_train_tfidf, y_train)\n",
    "\n",
    "y_train_resampled.value_counts()"
   ]
  },
  {
   "cell_type": "markdown",
   "metadata": {},
   "source": [
    "# Training Model"
   ]
  },
  {
   "cell_type": "code",
   "execution_count": 51,
   "metadata": {},
   "outputs": [
    {
     "data": {
      "text/plain": [
       "GridSearchCV(estimator=SVC(),\n",
       "             param_grid={'C': [0.1, 1, 10, 100],\n",
       "                         'kernel': ['rbf', 'poly', 'sigmoid']})"
      ]
     },
     "execution_count": 51,
     "metadata": {},
     "output_type": "execute_result"
    }
   ],
   "source": [
    "from sklearn.svm import SVC\n",
    "from sklearn.model_selection import GridSearchCV\n",
    "\n",
    "# defining parameter range\n",
    "param_grid = {'C': [0.1, 1, 10, 100],\n",
    "            'kernel': ['rbf', 'poly', 'sigmoid']\n",
    "\t\t\t}\n",
    "\n",
    "grid = GridSearchCV(SVC(), param_grid)\n",
    "\n",
    "# fitting the model for grid search\n",
    "grid.fit(X_train_resampled, y_train_resampled)\n"
   ]
  },
  {
   "cell_type": "code",
   "execution_count": 86,
   "metadata": {},
   "outputs": [
    {
     "data": {
      "image/png": "[encoded data removed]",
      "text/plain": [
       "<Figure size 432x288 with 1 Axes>"
      ]
     },
     "metadata": {
      "needs_background": "light"
     },
     "output_type": "display_data"
    }
   ],
   "source": [
    "import matplotlib.pyplot as plt\n",
    "\n",
    "def plot_grid_search(cv_results, grid_param_1, grid_param_2, name_param_1, name_param_2):\n",
    "    # Get Test Scores Mean and std for each grid search\n",
    "    scores_mean = cv_results['mean_test_score']\n",
    "    scores_mean = np.array(scores_mean).reshape(len(grid_param_2),len(grid_param_1))\n",
    "\n",
    "    scores_sd = cv_results['std_test_score']\n",
    "    scores_sd = np.array(scores_sd).reshape(len(grid_param_2),len(grid_param_1))\n",
    "\n",
    "    # Plot Grid search scores\n",
    "    _, ax = plt.subplots(1,1)\n",
    "\n",
    "    # Param1 is the X-axis, Param 2 is represented as a different curve (color line)\n",
    "    for idx, val in enumerate(grid_param_2):\n",
    "        ax.plot(grid_param_1, scores_mean[idx,:], '-o', label= name_param_2 + ': ' + str(val))\n",
    "\n",
    "    ax.set_title(\"Grid Search Scores\", fontsize=18, fontweight='bold')\n",
    "    ax.set_xlabel(name_param_1, fontsize=12)\n",
    "    ax.set_ylabel('CV Average Score', fontsize=16)\n",
    "    ax.legend(loc=\"best\", fontsize=12)\n",
    "    ax.grid('on')\n",
    "\n",
    "# Calling Method \n",
    "plot_grid_search(grid.cv_results_, param_grid['C'], param_grid['kernel'], 'Regularization parameter', 'Kernel')"
   ]
  },
  {
   "cell_type": "code",
   "execution_count": 92,
   "metadata": {},
   "outputs": [],
   "source": [
    "from sklearn.svm import SVC\n",
    "\n",
    "clf = SVC(C=10, kernel='rbf')\n",
    "model = clf.fit(X_train_resampled,y_train_resampled)"
   ]
  },
  {
   "cell_type": "markdown",
   "metadata": {},
   "source": [
    "# Evaluation"
   ]
  },
  {
   "cell_type": "code",
   "execution_count": 93,
   "metadata": {},
   "outputs": [],
   "source": [
    "predictions = model.predict(X_test_tfidf)"
   ]
  },
  {
   "cell_type": "code",
   "execution_count": 94,
   "metadata": {},
   "outputs": [
    {
     "name": "stdout",
     "output_type": "stream",
     "text": [
      "[[ 0  0  1  2  2  0  0  2  0  0  0  0  6]\n",
      " [ 0  3  0  0  0  1  1  5  0  0  5  0  0]\n",
      " [ 0  0 18  0  1  0  0  3  5  0  0  0  0]\n",
      " [ 0  0  1 10 12  0  0  1  0  0  0  0  0]\n",
      " [ 0  0  0  5 17  0  0  0  0  0  0  0  0]\n",
      " [ 0  5  0  1  0 15  9  1  0  0  0  0  0]\n",
      " [ 0  1  0  0  0  3  9  3  0  0  7  0  0]\n",
      " [ 0  0  0  0  0  0  0 76  0  0 11  0  1]\n",
      " [ 0  0  5  0  2  0  1  0 25  0  0  0  0]\n",
      " [ 0  0  0  0  4  0  0  1  0  0  0  0  2]\n",
      " [ 0  0  0  0  0  0  0 20  0  0 42  0  0]\n",
      " [ 0  0  3  1  2  0  0  2  0  0  0 13  0]\n",
      " [ 0  0  0  3  1  0  0  1  0  0  0  0  9]]\n"
     ]
    }
   ],
   "source": [
    "# Report the confusion matrix\n",
    "from sklearn import metrics\n",
    "print(metrics.confusion_matrix(y_test,predictions))"
   ]
  },
  {
   "cell_type": "code",
   "execution_count": 95,
   "metadata": {},
   "outputs": [
    {
     "name": "stdout",
     "output_type": "stream",
     "text": [
      "                                                                               precision    recall  f1-score   support\n",
      "\n",
      "                          Biomedic and Intelligent Assistive Technology (TAT)       0.00      0.00      0.00        13\n",
      "                                 Evaluasi dan Pengelolaan Pendidikan Kejuruan       0.33      0.20      0.25        15\n",
      "                            Game Technology and Machine Learning Applications       0.64      0.67      0.65        27\n",
      "                         Intelligent Power Electronics and Smart Grid (IPESG)       0.45      0.42      0.43        24\n",
      "                         Intelligent Power and Advanced energy System (IPAES)       0.41      0.77      0.54        22\n",
      "                                       Ketenegakerjaan Teknologi dan Kejuruan       0.79      0.48      0.60        31\n",
      "                                  Kurikulum Pendidikan Teknologi dan Kejuruan       0.45      0.39      0.42        23\n",
      "          Pengembangan Aplikasi dan Media Pembelajaran Teknologi dan Kejuruan       0.66      0.86      0.75        88\n",
      "  Rekayasa pengetahuan dan ilmu data (Knowledge Engineering and Data Science)       0.83      0.76      0.79        33\n",
      "Sistem Dinamis, Kendali, dan Robotika (Dynamic Systems, Control and Robotics)       0.00      0.00      0.00         7\n",
      "                                 Strategi Pembelajaran Teknologi dan Kejuruan       0.65      0.68      0.66        62\n",
      "                    Teknologi Digital Cerdas (Ubiquitous Computing Technique)       1.00      0.62      0.76        21\n",
      "                                            Telematics loT System and Devices       0.50      0.64      0.56        14\n",
      "\n",
      "                                                                     accuracy                           0.62       380\n",
      "                                                                    macro avg       0.52      0.50      0.49       380\n",
      "                                                                 weighted avg       0.61      0.62      0.60       380\n",
      "\n"
     ]
    },
    {
     "name": "stderr",
     "output_type": "stream",
     "text": [
      "c:\\Users\\ASUS\\anaconda3\\lib\\site-packages\\sklearn\\metrics\\_classification.py:1221: UndefinedMetricWarning: Precision and F-score are ill-defined and being set to 0.0 in labels with no predicted samples. Use `zero_division` parameter to control this behavior.\n",
      "  _warn_prf(average, modifier, msg_start, len(result))\n"
     ]
    }
   ],
   "source": [
    "# Print a classification report\n",
    "print(metrics.classification_report(y_test,predictions))"
   ]
  },
  {
   "cell_type": "code",
   "execution_count": 96,
   "metadata": {},
   "outputs": [
    {
     "name": "stdout",
     "output_type": "stream",
     "text": [
      "Accuracy score :  0.6236842105263158\n",
      "Precision score :  0.6077103405182663\n",
      "Recall score :  0.6236842105263158\n",
      "F1 score :  0.602584821269954\n"
     ]
    },
    {
     "name": "stderr",
     "output_type": "stream",
     "text": [
      "c:\\Users\\ASUS\\anaconda3\\lib\\site-packages\\sklearn\\metrics\\_classification.py:1221: UndefinedMetricWarning: Precision is ill-defined and being set to 0.0 in labels with no predicted samples. Use `zero_division` parameter to control this behavior.\n",
      "  _warn_prf(average, modifier, msg_start, len(result))\n"
     ]
    }
   ],
   "source": [
    "from sklearn.metrics import accuracy_score, precision_score, recall_score, f1_score\n",
    "\n",
    "# Print the overall metrics\n",
    "print('Accuracy score : ', accuracy_score(y_test, predictions))\n",
    "print('Precision score : ', precision_score(y_test, predictions, average='weighted'))\n",
    "print('Recall score : ', recall_score(y_test, predictions, average='weighted'))\n",
    "print('F1 score : ', f1_score(y_test, predictions, average='weighted'))"
   ]
  },
  {
   "cell_type": "markdown",
   "metadata": {},
   "source": [
    "# Export Model"
   ]
  },
  {
   "cell_type": "code",
   "execution_count": 60,
   "metadata": {},
   "outputs": [
    {
     "data": {
      "text/plain": [
       "['svm-model.joblib']"
      ]
     },
     "execution_count": 60,
     "metadata": {},
     "output_type": "execute_result"
    }
   ],
   "source": [
    "from joblib import dump\n",
    "\n",
    "dump(model, filename=\"svm-model.joblib\")"
   ]
  }
 ],
 "metadata": {
  "kernelspec": {
   "display_name": "Python 3 (ipykernel)",
   "language": "python",
   "name": "python3"
  },
  "language_info": {
   "codemirror_mode": {
    "name": "ipython",
    "version": 3
   },
   "file_extension": ".py",
   "mimetype": "text/x-python",
   "name": "python",
   "nbconvert_exporter": "python",
   "pygments_lexer": "ipython3",
   "version": "3.8.3"
  },
  "vscode": {
   "interpreter": {
    "hash": "a90aeebcf29d64a654773811cc170cb25061cb2498f10ac689db374c7bf325de"
   }
  }
 },
 "nbformat": 4,
 "nbformat_minor": 2
}
