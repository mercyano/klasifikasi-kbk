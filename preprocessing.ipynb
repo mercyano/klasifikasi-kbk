{
 "cells": [
  {
   "cell_type": "markdown",
   "metadata": {},
   "source": [
    "# Load Data"
   ]
  },
  {
   "cell_type": "code",
   "execution_count": 41,
   "metadata": {},
   "outputs": [
    {
     "data": {
      "text/html": [
       "<div>\n",
       "<style scoped>\n",
       "    .dataframe tbody tr th:only-of-type {\n",
       "        vertical-align: middle;\n",
       "    }\n",
       "\n",
       "    .dataframe tbody tr th {\n",
       "        vertical-align: top;\n",
       "    }\n",
       "\n",
       "    .dataframe thead th {\n",
       "        text-align: right;\n",
       "    }\n",
       "</style>\n",
       "<table border=\"1\" class=\"dataframe\">\n",
       "  <thead>\n",
       "    <tr style=\"text-align: right;\">\n",
       "      <th></th>\n",
       "      <th>id</th>\n",
       "      <th>judul</th>\n",
       "      <th>abstrak</th>\n",
       "      <th>kbk</th>\n",
       "    </tr>\n",
       "  </thead>\n",
       "  <tbody>\n",
       "    <tr>\n",
       "      <th>0</th>\n",
       "      <td>1</td>\n",
       "      <td>&lt;p&gt;Pengembangan Sistem Pendukung Keputusan unt...</td>\n",
       "      <td>&lt;p&gt;Sistem Pendukung Keputusan (SPK) merupakan ...</td>\n",
       "      <td>Pengembangan Aplikasi dan Media Pembelajaran T...</td>\n",
       "    </tr>\n",
       "    <tr>\n",
       "      <th>1</th>\n",
       "      <td>3</td>\n",
       "      <td>&lt;p&gt;HUBUNGAN EFIKASI DIRI DENGAN KESIAPAN KERJA...</td>\n",
       "      <td>&lt;p&gt;Pandemi covid-19 yang melanda dunia, teruta...</td>\n",
       "      <td>Ketenegakerjaan Teknologi dan Kejuruan</td>\n",
       "    </tr>\n",
       "    <tr>\n",
       "      <th>2</th>\n",
       "      <td>4</td>\n",
       "      <td>&lt;p&gt;Alat Bantu Penyandang Tunanetra Berbasis De...</td>\n",
       "      <td>&lt;p&gt;Tujuan dilakukannya penelitian ini untuk me...</td>\n",
       "      <td>Biomedic and Intelligent Assistive Technology ...</td>\n",
       "    </tr>\n",
       "    <tr>\n",
       "      <th>3</th>\n",
       "      <td>6</td>\n",
       "      <td>&lt;p class=\"MsoNormal\" style=\"margin-left:35.45p...</td>\n",
       "      <td>&lt;p&gt;&lt;span style=\"font-size:12.0pt;line-height:1...</td>\n",
       "      <td>Intelligent Power Electronics and Smart Grid (...</td>\n",
       "    </tr>\n",
       "    <tr>\n",
       "      <th>4</th>\n",
       "      <td>7</td>\n",
       "      <td>&lt;p class=\"MsoNormal\" align=\"center\" style=\"tex...</td>\n",
       "      <td>&lt;p class=\"MsoNormal\" style=\"text-align:justify...</td>\n",
       "      <td>Pengembangan Aplikasi dan Media Pembelajaran T...</td>\n",
       "    </tr>\n",
       "  </tbody>\n",
       "</table>\n",
       "</div>"
      ],
      "text/plain": [
       "   id                                              judul  \\\n",
       "0   1  <p>Pengembangan Sistem Pendukung Keputusan unt...   \n",
       "1   3  <p>HUBUNGAN EFIKASI DIRI DENGAN KESIAPAN KERJA...   \n",
       "2   4  <p>Alat Bantu Penyandang Tunanetra Berbasis De...   \n",
       "3   6  <p class=\"MsoNormal\" style=\"margin-left:35.45p...   \n",
       "4   7  <p class=\"MsoNormal\" align=\"center\" style=\"tex...   \n",
       "\n",
       "                                             abstrak  \\\n",
       "0  <p>Sistem Pendukung Keputusan (SPK) merupakan ...   \n",
       "1  <p>Pandemi covid-19 yang melanda dunia, teruta...   \n",
       "2  <p>Tujuan dilakukannya penelitian ini untuk me...   \n",
       "3  <p><span style=\"font-size:12.0pt;line-height:1...   \n",
       "4  <p class=\"MsoNormal\" style=\"text-align:justify...   \n",
       "\n",
       "                                                 kbk  \n",
       "0  Pengembangan Aplikasi dan Media Pembelajaran T...  \n",
       "1             Ketenegakerjaan Teknologi dan Kejuruan  \n",
       "2  Biomedic and Intelligent Assistive Technology ...  \n",
       "3  Intelligent Power Electronics and Smart Grid (...  \n",
       "4  Pengembangan Aplikasi dan Media Pembelajaran T...  "
      ]
     },
     "execution_count": 41,
     "metadata": {},
     "output_type": "execute_result"
    }
   ],
   "source": [
    "import numpy as np\n",
    "import pandas as pd\n",
    "\n",
    "df = pd.read_csv('../data/dataKBK.csv')\n",
    "df.head()"
   ]
  },
  {
   "cell_type": "markdown",
   "metadata": {},
   "source": [
    "# Data Exploration"
   ]
  },
  {
   "cell_type": "code",
   "execution_count": 42,
   "metadata": {},
   "outputs": [
    {
     "data": {
      "text/plain": [
       "2168"
      ]
     },
     "execution_count": 42,
     "metadata": {},
     "output_type": "execute_result"
    }
   ],
   "source": [
    "# Jumlah baris pada dataset\n",
    "len(df)"
   ]
  },
  {
   "cell_type": "code",
   "execution_count": 43,
   "metadata": {},
   "outputs": [
    {
     "data": {
      "text/plain": [
       "Pengembangan Aplikasi dan Media Pembelajaran Teknologi dan Kejuruan              465\n",
       "Strategi Pembelajaran Teknologi dan Kejuruan                                     396\n",
       "Kurikulum Pendidikan Teknologi dan Kejuruan                                      201\n",
       "Rekayasa pengetahuan dan ilmu data (Knowledge Engineering and Data Science)      174\n",
       "Evaluasi dan Pengelolaan Pendidikan Kejuruan                                     155\n",
       "Ketenegakerjaan Teknologi dan Kejuruan                                           142\n",
       "Teknologi Digital Cerdas (Ubiquitous Computing Technique)                        132\n",
       "Intelligent Power and Advanced energy System (IPAES)                             121\n",
       "Intelligent Power Electronics and Smart Grid (IPESG)                             104\n",
       "Telematics loT System and Devices                                                 90\n",
       "Game Technology and Machine Learning Applications                                 88\n",
       "Biomedic and Intelligent Assistive Technology (TAT)                               55\n",
       "Sistem Dinamis, Kendali, dan Robotika (Dynamic Systems, Control and Robotics)     45\n",
       "Name: kbk, dtype: int64"
      ]
     },
     "execution_count": 43,
     "metadata": {},
     "output_type": "execute_result"
    }
   ],
   "source": [
    "# Jumlah data pada masing-masing label KBK\n",
    "df['kbk'].value_counts()"
   ]
  },
  {
   "cell_type": "markdown",
   "metadata": {},
   "source": [
    "# Text Preprocessing"
   ]
  },
  {
   "cell_type": "markdown",
   "metadata": {},
   "source": [
    "## Text Cleaning"
   ]
  },
  {
   "cell_type": "code",
   "execution_count": 44,
   "metadata": {},
   "outputs": [
    {
     "data": {
      "text/html": [
       "<div>\n",
       "<style scoped>\n",
       "    .dataframe tbody tr th:only-of-type {\n",
       "        vertical-align: middle;\n",
       "    }\n",
       "\n",
       "    .dataframe tbody tr th {\n",
       "        vertical-align: top;\n",
       "    }\n",
       "\n",
       "    .dataframe thead th {\n",
       "        text-align: right;\n",
       "    }\n",
       "</style>\n",
       "<table border=\"1\" class=\"dataframe\">\n",
       "  <thead>\n",
       "    <tr style=\"text-align: right;\">\n",
       "      <th></th>\n",
       "      <th>id</th>\n",
       "      <th>judul</th>\n",
       "      <th>abstrak</th>\n",
       "      <th>kbk</th>\n",
       "    </tr>\n",
       "  </thead>\n",
       "  <tbody>\n",
       "    <tr>\n",
       "      <th>0</th>\n",
       "      <td>1</td>\n",
       "      <td>pengembangan sistem pendukung keputusan untuk ...</td>\n",
       "      <td>sistem pendukung keputusan spk merupakan suatu...</td>\n",
       "      <td>Pengembangan Aplikasi dan Media Pembelajaran T...</td>\n",
       "    </tr>\n",
       "    <tr>\n",
       "      <th>1</th>\n",
       "      <td>3</td>\n",
       "      <td>hubungan efikasi diri dengan kesiapan kerja lu...</td>\n",
       "      <td>pandemi covid 19 yang melanda dunia terutama i...</td>\n",
       "      <td>Ketenegakerjaan Teknologi dan Kejuruan</td>\n",
       "    </tr>\n",
       "    <tr>\n",
       "      <th>2</th>\n",
       "      <td>4</td>\n",
       "      <td>alat bantu penyandang tunanetra berbasis detek...</td>\n",
       "      <td>tujuan dilakukannya penelitian ini untuk memba...</td>\n",
       "      <td>Biomedic and Intelligent Assistive Technology ...</td>\n",
       "    </tr>\n",
       "    <tr>\n",
       "      <th>3</th>\n",
       "      <td>6</td>\n",
       "      <td>analisis thermovisi penghantar akibat transmis...</td>\n",
       "      <td>gardu induk waru merupakan sub transmisi listr...</td>\n",
       "      <td>Intelligent Power Electronics and Smart Grid (...</td>\n",
       "    </tr>\n",
       "    <tr>\n",
       "      <th>4</th>\n",
       "      <td>7</td>\n",
       "      <td>pengembangan modul nbsp berbasis production ba...</td>\n",
       "      <td>mata pelajaran dasar desain grafis merupakan m...</td>\n",
       "      <td>Pengembangan Aplikasi dan Media Pembelajaran T...</td>\n",
       "    </tr>\n",
       "  </tbody>\n",
       "</table>\n",
       "</div>"
      ],
      "text/plain": [
       "   id                                              judul  \\\n",
       "0   1  pengembangan sistem pendukung keputusan untuk ...   \n",
       "1   3  hubungan efikasi diri dengan kesiapan kerja lu...   \n",
       "2   4  alat bantu penyandang tunanetra berbasis detek...   \n",
       "3   6  analisis thermovisi penghantar akibat transmis...   \n",
       "4   7  pengembangan modul nbsp berbasis production ba...   \n",
       "\n",
       "                                             abstrak  \\\n",
       "0  sistem pendukung keputusan spk merupakan suatu...   \n",
       "1  pandemi covid 19 yang melanda dunia terutama i...   \n",
       "2  tujuan dilakukannya penelitian ini untuk memba...   \n",
       "3  gardu induk waru merupakan sub transmisi listr...   \n",
       "4  mata pelajaran dasar desain grafis merupakan m...   \n",
       "\n",
       "                                                 kbk  \n",
       "0  Pengembangan Aplikasi dan Media Pembelajaran T...  \n",
       "1             Ketenegakerjaan Teknologi dan Kejuruan  \n",
       "2  Biomedic and Intelligent Assistive Technology ...  \n",
       "3  Intelligent Power Electronics and Smart Grid (...  \n",
       "4  Pengembangan Aplikasi dan Media Pembelajaran T...  "
      ]
     },
     "execution_count": 44,
     "metadata": {},
     "output_type": "execute_result"
    }
   ],
   "source": [
    "import re, string\n",
    "\n",
    "# Text Cleaning\n",
    "def cleaning(text):\n",
    "    # HTML Tag Removal\n",
    "    text = re.compile(r'<[^>]+>').sub('', str(text))\n",
    "\n",
    "    # Case folding\n",
    "    text = text.lower()\n",
    "\n",
    "    # Trim text\n",
    "    text = text.strip()\n",
    "\n",
    "    # Remove punctuations, karakter spesial, and spasi ganda\n",
    "    text = re.compile('<.*?>').sub('', text) \n",
    "    text = re.compile('[%s]' % re.escape(string.punctuation)).sub(' ', text)\n",
    "    text = re.sub('\\s+', ' ', text)\n",
    "\n",
    "    # Number removal\n",
    "    text = re.sub(r'\\[[0-9]*\\]', ' ', text) \n",
    "    text = re.sub(r'[^\\w\\s]', '', str(text).lower().strip())\n",
    "\n",
    "    return text\n",
    "\n",
    "df['judul'] = df['judul'].apply(lambda x: cleaning(x))\n",
    "df['abstrak'] = df['abstrak'].apply(lambda x: cleaning(x))\n",
    "\n",
    "df.head()"
   ]
  },
  {
   "cell_type": "code",
   "execution_count": 45,
   "metadata": {},
   "outputs": [],
   "source": [
    "# Checkpoint: Export Hasil Text Cleaning\n",
    "df.to_csv('text_cleaning.csv')"
   ]
  },
  {
   "cell_type": "markdown",
   "metadata": {},
   "source": [
    "## Remove Missing Values"
   ]
  },
  {
   "cell_type": "code",
   "execution_count": 46,
   "metadata": {},
   "outputs": [
    {
     "data": {
      "text/plain": [
       "id         0\n",
       "judul      0\n",
       "abstrak    0\n",
       "kbk        0\n",
       "dtype: int64"
      ]
     },
     "execution_count": 46,
     "metadata": {},
     "output_type": "execute_result"
    }
   ],
   "source": [
    "# Cek apakah terdapat missing values\n",
    "df.isnull().sum()"
   ]
  },
  {
   "cell_type": "code",
   "execution_count": 47,
   "metadata": {},
   "outputs": [
    {
     "data": {
      "text/plain": [
       "2168"
      ]
     },
     "execution_count": 47,
     "metadata": {},
     "output_type": "execute_result"
    }
   ],
   "source": [
    "# Remove missing values\n",
    "df.dropna(inplace=True)\n",
    "len(df)"
   ]
  },
  {
   "cell_type": "markdown",
   "metadata": {},
   "source": [
    "## Remove Duplicate Values"
   ]
  },
  {
   "cell_type": "code",
   "execution_count": 48,
   "metadata": {},
   "outputs": [
    {
     "data": {
      "text/html": [
       "<div>\n",
       "<style scoped>\n",
       "    .dataframe tbody tr th:only-of-type {\n",
       "        vertical-align: middle;\n",
       "    }\n",
       "\n",
       "    .dataframe tbody tr th {\n",
       "        vertical-align: top;\n",
       "    }\n",
       "\n",
       "    .dataframe thead th {\n",
       "        text-align: right;\n",
       "    }\n",
       "</style>\n",
       "<table border=\"1\" class=\"dataframe\">\n",
       "  <thead>\n",
       "    <tr style=\"text-align: right;\">\n",
       "      <th></th>\n",
       "      <th>id</th>\n",
       "      <th>judul</th>\n",
       "      <th>abstrak</th>\n",
       "      <th>kbk</th>\n",
       "    </tr>\n",
       "  </thead>\n",
       "  <tbody>\n",
       "    <tr>\n",
       "      <th>1247</th>\n",
       "      <td>1277</td>\n",
       "      <td>pengembangan sistem pendukung keputusan untuk ...</td>\n",
       "      <td>proses penentuan dosen pembimbing skripsi atau...</td>\n",
       "      <td>Game Technology and Machine Learning Applications</td>\n",
       "    </tr>\n",
       "    <tr>\n",
       "      <th>1359</th>\n",
       "      <td>1389</td>\n",
       "      <td>efektivitas penggunaan learning management sys...</td>\n",
       "      <td></td>\n",
       "      <td>Pengembangan Aplikasi dan Media Pembelajaran T...</td>\n",
       "    </tr>\n",
       "    <tr>\n",
       "      <th>1477</th>\n",
       "      <td>1510</td>\n",
       "      <td>nan</td>\n",
       "      <td>nan</td>\n",
       "      <td>Pengembangan Aplikasi dan Media Pembelajaran T...</td>\n",
       "    </tr>\n",
       "    <tr>\n",
       "      <th>1513</th>\n",
       "      <td>1546</td>\n",
       "      <td>nan</td>\n",
       "      <td>penelitian ini dilatarbelakangi karena adanya ...</td>\n",
       "      <td>Strategi Pembelajaran Teknologi dan Kejuruan</td>\n",
       "    </tr>\n",
       "  </tbody>\n",
       "</table>\n",
       "</div>"
      ],
      "text/plain": [
       "        id                                              judul  \\\n",
       "1247  1277  pengembangan sistem pendukung keputusan untuk ...   \n",
       "1359  1389  efektivitas penggunaan learning management sys...   \n",
       "1477  1510                                                nan   \n",
       "1513  1546                                                nan   \n",
       "\n",
       "                                                abstrak  \\\n",
       "1247  proses penentuan dosen pembimbing skripsi atau...   \n",
       "1359                                                      \n",
       "1477                                                nan   \n",
       "1513  penelitian ini dilatarbelakangi karena adanya ...   \n",
       "\n",
       "                                                    kbk  \n",
       "1247  Game Technology and Machine Learning Applications  \n",
       "1359  Pengembangan Aplikasi dan Media Pembelajaran T...  \n",
       "1477  Pengembangan Aplikasi dan Media Pembelajaran T...  \n",
       "1513       Strategi Pembelajaran Teknologi dan Kejuruan  "
      ]
     },
     "execution_count": 48,
     "metadata": {},
     "output_type": "execute_result"
    }
   ],
   "source": [
    "# Cek apakah terdapat duplikasi data pada kolom judul\n",
    "df[df['judul'].duplicated()]"
   ]
  },
  {
   "cell_type": "code",
   "execution_count": 49,
   "metadata": {},
   "outputs": [
    {
     "data": {
      "text/html": [
       "<div>\n",
       "<style scoped>\n",
       "    .dataframe tbody tr th:only-of-type {\n",
       "        vertical-align: middle;\n",
       "    }\n",
       "\n",
       "    .dataframe tbody tr th {\n",
       "        vertical-align: top;\n",
       "    }\n",
       "\n",
       "    .dataframe thead th {\n",
       "        text-align: right;\n",
       "    }\n",
       "</style>\n",
       "<table border=\"1\" class=\"dataframe\">\n",
       "  <thead>\n",
       "    <tr style=\"text-align: right;\">\n",
       "      <th></th>\n",
       "      <th>id</th>\n",
       "      <th>judul</th>\n",
       "      <th>abstrak</th>\n",
       "      <th>kbk</th>\n",
       "    </tr>\n",
       "  </thead>\n",
       "  <tbody>\n",
       "  </tbody>\n",
       "</table>\n",
       "</div>"
      ],
      "text/plain": [
       "Empty DataFrame\n",
       "Columns: [id, judul, abstrak, kbk]\n",
       "Index: []"
      ]
     },
     "execution_count": 49,
     "metadata": {},
     "output_type": "execute_result"
    }
   ],
   "source": [
    "# Remove duplicates judul\n",
    "df.drop_duplicates(subset=['judul'], inplace=True)\n",
    "\n",
    "# Cek apakah masih terdapat duplikasi data pada kolom judul\n",
    "df[df['judul'].duplicated()]"
   ]
  },
  {
   "cell_type": "code",
   "execution_count": 50,
   "metadata": {},
   "outputs": [
    {
     "data": {
      "text/html": [
       "<div>\n",
       "<style scoped>\n",
       "    .dataframe tbody tr th:only-of-type {\n",
       "        vertical-align: middle;\n",
       "    }\n",
       "\n",
       "    .dataframe tbody tr th {\n",
       "        vertical-align: top;\n",
       "    }\n",
       "\n",
       "    .dataframe thead th {\n",
       "        text-align: right;\n",
       "    }\n",
       "</style>\n",
       "<table border=\"1\" class=\"dataframe\">\n",
       "  <thead>\n",
       "    <tr style=\"text-align: right;\">\n",
       "      <th></th>\n",
       "      <th>id</th>\n",
       "      <th>judul</th>\n",
       "      <th>abstrak</th>\n",
       "      <th>kbk</th>\n",
       "    </tr>\n",
       "  </thead>\n",
       "  <tbody>\n",
       "    <tr>\n",
       "      <th>100</th>\n",
       "      <td>106</td>\n",
       "      <td>pengembangan modul bermuatan contextual teachi...</td>\n",
       "      <td>nan</td>\n",
       "      <td>Strategi Pembelajaran Teknologi dan Kejuruan</td>\n",
       "    </tr>\n",
       "    <tr>\n",
       "      <th>142</th>\n",
       "      <td>150</td>\n",
       "      <td>tingkat kesiapan calon guru millennial generat...</td>\n",
       "      <td>nan</td>\n",
       "      <td>Kurikulum Pendidikan Teknologi dan Kejuruan</td>\n",
       "    </tr>\n",
       "    <tr>\n",
       "      <th>146</th>\n",
       "      <td>154</td>\n",
       "      <td>pengaruh penggunaan aplikasi interaktif quizzi...</td>\n",
       "      <td>nan</td>\n",
       "      <td>Strategi Pembelajaran Teknologi dan Kejuruan</td>\n",
       "    </tr>\n",
       "    <tr>\n",
       "      <th>159</th>\n",
       "      <td>167</td>\n",
       "      <td>implementasi metode naive bayes untuk klasifik...</td>\n",
       "      <td>nan</td>\n",
       "      <td>Game Technology and Machine Learning Applications</td>\n",
       "    </tr>\n",
       "    <tr>\n",
       "      <th>233</th>\n",
       "      <td>244</td>\n",
       "      <td>pengembangan media pembelajaran berbasis mobil...</td>\n",
       "      <td>nan</td>\n",
       "      <td>Pengembangan Aplikasi dan Media Pembelajaran T...</td>\n",
       "    </tr>\n",
       "    <tr>\n",
       "      <th>...</th>\n",
       "      <td>...</td>\n",
       "      <td>...</td>\n",
       "      <td>...</td>\n",
       "      <td>...</td>\n",
       "    </tr>\n",
       "    <tr>\n",
       "      <th>1478</th>\n",
       "      <td>1511</td>\n",
       "      <td>hubungan antara self efficacy dengan kemampuan...</td>\n",
       "      <td></td>\n",
       "      <td>Kurikulum Pendidikan Teknologi dan Kejuruan</td>\n",
       "    </tr>\n",
       "    <tr>\n",
       "      <th>1656</th>\n",
       "      <td>1692</td>\n",
       "      <td></td>\n",
       "      <td></td>\n",
       "      <td>Pengembangan Aplikasi dan Media Pembelajaran T...</td>\n",
       "    </tr>\n",
       "    <tr>\n",
       "      <th>1764</th>\n",
       "      <td>1800</td>\n",
       "      <td>pengembangan ar house solution untuk meningkat...</td>\n",
       "      <td></td>\n",
       "      <td>Teknologi Digital Cerdas (Ubiquitous Computing...</td>\n",
       "    </tr>\n",
       "    <tr>\n",
       "      <th>1840</th>\n",
       "      <td>1876</td>\n",
       "      <td>pengembangan prototype aplikasi driver guna me...</td>\n",
       "      <td></td>\n",
       "      <td>Teknologi Digital Cerdas (Ubiquitous Computing...</td>\n",
       "    </tr>\n",
       "    <tr>\n",
       "      <th>2160</th>\n",
       "      <td>2196</td>\n",
       "      <td>pengembangan media pembelajaran interaktif ber...</td>\n",
       "      <td></td>\n",
       "      <td>Pengembangan Aplikasi dan Media Pembelajaran T...</td>\n",
       "    </tr>\n",
       "  </tbody>\n",
       "</table>\n",
       "<p>895 rows × 4 columns</p>\n",
       "</div>"
      ],
      "text/plain": [
       "        id                                              judul abstrak  \\\n",
       "100    106  pengembangan modul bermuatan contextual teachi...     nan   \n",
       "142    150  tingkat kesiapan calon guru millennial generat...     nan   \n",
       "146    154  pengaruh penggunaan aplikasi interaktif quizzi...     nan   \n",
       "159    167  implementasi metode naive bayes untuk klasifik...     nan   \n",
       "233    244  pengembangan media pembelajaran berbasis mobil...     nan   \n",
       "...    ...                                                ...     ...   \n",
       "1478  1511  hubungan antara self efficacy dengan kemampuan...           \n",
       "1656  1692                                                              \n",
       "1764  1800  pengembangan ar house solution untuk meningkat...           \n",
       "1840  1876  pengembangan prototype aplikasi driver guna me...           \n",
       "2160  2196  pengembangan media pembelajaran interaktif ber...           \n",
       "\n",
       "                                                    kbk  \n",
       "100        Strategi Pembelajaran Teknologi dan Kejuruan  \n",
       "142         Kurikulum Pendidikan Teknologi dan Kejuruan  \n",
       "146        Strategi Pembelajaran Teknologi dan Kejuruan  \n",
       "159   Game Technology and Machine Learning Applications  \n",
       "233   Pengembangan Aplikasi dan Media Pembelajaran T...  \n",
       "...                                                 ...  \n",
       "1478        Kurikulum Pendidikan Teknologi dan Kejuruan  \n",
       "1656  Pengembangan Aplikasi dan Media Pembelajaran T...  \n",
       "1764  Teknologi Digital Cerdas (Ubiquitous Computing...  \n",
       "1840  Teknologi Digital Cerdas (Ubiquitous Computing...  \n",
       "2160  Pengembangan Aplikasi dan Media Pembelajaran T...  \n",
       "\n",
       "[895 rows x 4 columns]"
      ]
     },
     "execution_count": 50,
     "metadata": {},
     "output_type": "execute_result"
    }
   ],
   "source": [
    "# Cek apakah terdapat duplikasi data pada kolom abstrak\n",
    "df[df['abstrak'].duplicated()]"
   ]
  },
  {
   "cell_type": "code",
   "execution_count": 51,
   "metadata": {},
   "outputs": [
    {
     "data": {
      "text/html": [
       "<div>\n",
       "<style scoped>\n",
       "    .dataframe tbody tr th:only-of-type {\n",
       "        vertical-align: middle;\n",
       "    }\n",
       "\n",
       "    .dataframe tbody tr th {\n",
       "        vertical-align: top;\n",
       "    }\n",
       "\n",
       "    .dataframe thead th {\n",
       "        text-align: right;\n",
       "    }\n",
       "</style>\n",
       "<table border=\"1\" class=\"dataframe\">\n",
       "  <thead>\n",
       "    <tr style=\"text-align: right;\">\n",
       "      <th></th>\n",
       "      <th>id</th>\n",
       "      <th>judul</th>\n",
       "      <th>abstrak</th>\n",
       "      <th>kbk</th>\n",
       "    </tr>\n",
       "  </thead>\n",
       "  <tbody>\n",
       "  </tbody>\n",
       "</table>\n",
       "</div>"
      ],
      "text/plain": [
       "Empty DataFrame\n",
       "Columns: [id, judul, abstrak, kbk]\n",
       "Index: []"
      ]
     },
     "execution_count": 51,
     "metadata": {},
     "output_type": "execute_result"
    }
   ],
   "source": [
    "# Remove duplicates abstrak\n",
    "df.drop_duplicates(subset=['abstrak'], inplace=True)\n",
    "\n",
    "# Cek apakah masih terdapat duplikasi data pada kolom abstrak\n",
    "df[df['abstrak'].duplicated()]"
   ]
  },
  {
   "cell_type": "markdown",
   "metadata": {},
   "source": [
    "## Tokenization"
   ]
  },
  {
   "cell_type": "code",
   "execution_count": 52,
   "metadata": {},
   "outputs": [
    {
     "data": {
      "text/plain": [
       "0       [pengembangan, sistem, pendukung, keputusan, u...\n",
       "1       [hubungan, efikasi, diri, dengan, kesiapan, ke...\n",
       "2       [alat, bantu, penyandang, tunanetra, berbasis,...\n",
       "3       [analisis, thermovisi, penghantar, akibat, tra...\n",
       "4       [pengembangan, modul, nbsp, berbasis, producti...\n",
       "                              ...                        \n",
       "2163    [pengaruh, status, sosial, ekonomi, orang, tua...\n",
       "2164    [pengaruh, self, efficacy, dan, mastery, exper...\n",
       "2165    [rancangan, alat, sistem, otomatis, serta, mon...\n",
       "2166    [pengembangan, modul, mata, pelajaran, instrum...\n",
       "2167    [peningkatan, kompetensi, instalasi, peneranga...\n",
       "Name: judul_tokens, Length: 1269, dtype: object"
      ]
     },
     "execution_count": 52,
     "metadata": {},
     "output_type": "execute_result"
    }
   ],
   "source": [
    "from nltk.tokenize import word_tokenize\n",
    "\n",
    "# Tokenizing Judul\n",
    "df['judul_tokens'] = df['judul'].apply(lambda x: word_tokenize(x))\n",
    "df['judul_tokens']"
   ]
  },
  {
   "cell_type": "code",
   "execution_count": 54,
   "metadata": {},
   "outputs": [
    {
     "data": {
      "text/plain": [
       "0       [sistem, pendukung, keputusan, spk, merupakan,...\n",
       "1       [pandemi, covid, 19, yang, melanda, dunia, ter...\n",
       "2       [tujuan, dilakukannya, penelitian, ini, untuk,...\n",
       "3       [gardu, induk, waru, merupakan, sub, transmisi...\n",
       "4       [mata, pelajaran, dasar, desain, grafis, merup...\n",
       "                              ...                        \n",
       "2163    [nbsp, nbsp, nbsp, penelitian, ini, dilaksanak...\n",
       "2164    [aspek, aspek, yang, berpengaruh, dengan, kema...\n",
       "2165    [perubahan, zaman, ke, era, otomatisasi, merup...\n",
       "2166    [kementrian, pendidikan, kebudayaan, riset, da...\n",
       "2167    [nbsp, nbsp, nbsp, nbsp, nbsp, nbsp, latar, be...\n",
       "Name: abstrak_tokens, Length: 1269, dtype: object"
      ]
     },
     "execution_count": 54,
     "metadata": {},
     "output_type": "execute_result"
    }
   ],
   "source": [
    "# Tokenizing Abstrak\n",
    "df['abstrak_tokens'] = df['abstrak'].apply(lambda x: word_tokenize(x))\n",
    "df['abstrak_tokens']"
   ]
  },
  {
   "cell_type": "markdown",
   "metadata": {},
   "source": [
    "## Stop Words Removal"
   ]
  },
  {
   "cell_type": "code",
   "execution_count": 55,
   "metadata": {},
   "outputs": [
    {
     "data": {
      "text/plain": [
       "0       [sistem, pendukung, keputusan, spk, sistem, me...\n",
       "1       [pandemi, covid, 19, melanda, dunia, indonesia...\n",
       "2       [tujuan, dilakukannya, penelitian, membantu, p...\n",
       "3       [gardu, induk, waru, sub, transmisi, listrik, ...\n",
       "4       [mata, pelajaran, dasar, desain, grafis, mata,...\n",
       "                              ...                        \n",
       "2163    [nbsp, nbsp, nbsp, penelitian, dilaksanakan, p...\n",
       "2164    [aspek, aspek, berpengaruh, kemantapan, pengam...\n",
       "2165    [perubahan, zaman, era, otomatisasi, langkah, ...\n",
       "2166    [kementrian, pendidikan, kebudayaan, riset, te...\n",
       "2167    [nbsp, nbsp, nbsp, nbsp, nbsp, nbsp, latar, di...\n",
       "Name: abstrak_tokens, Length: 1269, dtype: object"
      ]
     },
     "execution_count": 55,
     "metadata": {},
     "output_type": "execute_result"
    }
   ],
   "source": [
    "from nltk.corpus import stopwords \n",
    "from itertools import chain\n",
    "\n",
    "stop_words = set(chain(stopwords.words('indonesian'), stopwords.words('english')))\n",
    "\n",
    "df['judul_tokens'].apply(lambda x: [w for w in x if not w in stop_words])\n",
    "df['abstrak_tokens'].apply(lambda x: [w for w in x if not w in stop_words])"
   ]
  },
  {
   "cell_type": "markdown",
   "metadata": {},
   "source": [
    "## Stemming"
   ]
  },
  {
   "cell_type": "code",
   "execution_count": 56,
   "metadata": {},
   "outputs": [
    {
     "name": "stderr",
     "output_type": "stream",
     "text": [
      "c:\\Users\\ASUS\\anaconda3\\lib\\site-packages\\tqdm\\std.py:668: FutureWarning: The Panel class is removed from pandas. Accessing it from the top-level namespace will also be removed in the next version\n",
      "  from pandas import Panel\n",
      "100%|██████████| 1269/1269 [07:46<00:00,  2.72it/s]\n"
     ]
    }
   ],
   "source": [
    "from Sastrawi.Stemmer.StemmerFactory import StemmerFactory\n",
    "from tqdm.auto import tqdm\n",
    "tqdm.pandas()\n",
    "\n",
    "factory = StemmerFactory()\n",
    "stemmer = factory.create_stemmer()\n",
    "\n",
    "# Stemming judul\n",
    "df['judul_tokens'] = df['judul_tokens'].progress_apply(lambda x: stemmer.stem(' '.join(x)).split(' '))"
   ]
  },
  {
   "cell_type": "code",
   "execution_count": 57,
   "metadata": {},
   "outputs": [
    {
     "name": "stderr",
     "output_type": "stream",
     "text": [
      "100%|██████████| 1269/1269 [29:43<00:00,  1.41s/it] \n"
     ]
    }
   ],
   "source": [
    "# Stemming abstrak\n",
    "df['abstrak_tokens'] = df['abstrak_tokens'].progress_apply(lambda x: stemmer.stem(' '.join(x)).split(' '))"
   ]
  },
  {
   "cell_type": "markdown",
   "metadata": {},
   "source": [
    "## Export Cleaned Data"
   ]
  },
  {
   "cell_type": "code",
   "execution_count": 58,
   "metadata": {},
   "outputs": [],
   "source": [
    "df.to_csv('cleaned-data-kbk.csv')"
   ]
  }
 ],
 "metadata": {
  "kernelspec": {
   "display_name": "Python 3.8.3 ('base')",
   "language": "python",
   "name": "python3"
  },
  "language_info": {
   "codemirror_mode": {
    "name": "ipython",
    "version": 3
   },
   "file_extension": ".py",
   "mimetype": "text/x-python",
   "name": "python",
   "nbconvert_exporter": "python",
   "pygments_lexer": "ipython3",
   "version": "3.8.3"
  },
  "orig_nbformat": 4,
  "vscode": {
   "interpreter": {
    "hash": "a90aeebcf29d64a654773811cc170cb25061cb2498f10ac689db374c7bf325de"
   }
  }
 },
 "nbformat": 4,
 "nbformat_minor": 2
}
