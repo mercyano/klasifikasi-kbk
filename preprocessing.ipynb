{
 "cells": [
  {
   "cell_type": "markdown",
   "metadata": {},
   "source": [
    "# Load Data"
   ]
  },
  {
   "cell_type": "code",
   "execution_count": 2,
   "metadata": {},
   "outputs": [
    {
     "data": {
      "text/html": [
       "<div>\n",
       "<style scoped>\n",
       "    .dataframe tbody tr th:only-of-type {\n",
       "        vertical-align: middle;\n",
       "    }\n",
       "\n",
       "    .dataframe tbody tr th {\n",
       "        vertical-align: top;\n",
       "    }\n",
       "\n",
       "    .dataframe thead th {\n",
       "        text-align: right;\n",
       "    }\n",
       "</style>\n",
       "<table border=\"1\" class=\"dataframe\">\n",
       "  <thead>\n",
       "    <tr style=\"text-align: right;\">\n",
       "      <th></th>\n",
       "      <th>Unnamed: 0</th>\n",
       "      <th>judul</th>\n",
       "      <th>abstrak</th>\n",
       "      <th>kbk</th>\n",
       "    </tr>\n",
       "  </thead>\n",
       "  <tbody>\n",
       "    <tr>\n",
       "      <th>0</th>\n",
       "      <td>0</td>\n",
       "      <td>&lt;p&gt;Pengembangan Sistem Pendukung Keputusan unt...</td>\n",
       "      <td>&lt;p&gt;Sistem Pendukung Keputusan (SPK) merupakan ...</td>\n",
       "      <td>Pengembangan Aplikasi dan Media Pembelajaran T...</td>\n",
       "    </tr>\n",
       "    <tr>\n",
       "      <th>1</th>\n",
       "      <td>1</td>\n",
       "      <td>&lt;p&gt;HUBUNGAN EFIKASI DIRI DENGAN KESIAPAN KERJA...</td>\n",
       "      <td>&lt;p&gt;Pandemi covid-19 yang melanda dunia, teruta...</td>\n",
       "      <td>Ketenegakerjaan Teknologi dan Kejuruan</td>\n",
       "    </tr>\n",
       "    <tr>\n",
       "      <th>2</th>\n",
       "      <td>2</td>\n",
       "      <td>&lt;p&gt;Alat Bantu Penyandang Tunanetra Berbasis De...</td>\n",
       "      <td>&lt;p&gt;Tujuan dilakukannya penelitian ini untuk me...</td>\n",
       "      <td>Biomedic and Intelligent Assistive Technology ...</td>\n",
       "    </tr>\n",
       "    <tr>\n",
       "      <th>3</th>\n",
       "      <td>3</td>\n",
       "      <td>&lt;p class=\"MsoNormal\" style=\"margin-left:35.45p...</td>\n",
       "      <td>&lt;p&gt;&lt;span style=\"font-size:12.0pt;line-height:1...</td>\n",
       "      <td>Intelligent Power Electronics and Smart Grid (...</td>\n",
       "    </tr>\n",
       "    <tr>\n",
       "      <th>4</th>\n",
       "      <td>4</td>\n",
       "      <td>&lt;p class=\"MsoNormal\" align=\"center\" style=\"tex...</td>\n",
       "      <td>&lt;p class=\"MsoNormal\" style=\"text-align:justify...</td>\n",
       "      <td>Pengembangan Aplikasi dan Media Pembelajaran T...</td>\n",
       "    </tr>\n",
       "  </tbody>\n",
       "</table>\n",
       "</div>"
      ],
      "text/plain": [
       "   Unnamed: 0                                              judul  \\\n",
       "0           0  <p>Pengembangan Sistem Pendukung Keputusan unt...   \n",
       "1           1  <p>HUBUNGAN EFIKASI DIRI DENGAN KESIAPAN KERJA...   \n",
       "2           2  <p>Alat Bantu Penyandang Tunanetra Berbasis De...   \n",
       "3           3  <p class=\"MsoNormal\" style=\"margin-left:35.45p...   \n",
       "4           4  <p class=\"MsoNormal\" align=\"center\" style=\"tex...   \n",
       "\n",
       "                                             abstrak  \\\n",
       "0  <p>Sistem Pendukung Keputusan (SPK) merupakan ...   \n",
       "1  <p>Pandemi covid-19 yang melanda dunia, teruta...   \n",
       "2  <p>Tujuan dilakukannya penelitian ini untuk me...   \n",
       "3  <p><span style=\"font-size:12.0pt;line-height:1...   \n",
       "4  <p class=\"MsoNormal\" style=\"text-align:justify...   \n",
       "\n",
       "                                                 kbk  \n",
       "0  Pengembangan Aplikasi dan Media Pembelajaran T...  \n",
       "1             Ketenegakerjaan Teknologi dan Kejuruan  \n",
       "2  Biomedic and Intelligent Assistive Technology ...  \n",
       "3  Intelligent Power Electronics and Smart Grid (...  \n",
       "4  Pengembangan Aplikasi dan Media Pembelajaran T...  "
      ]
     },
     "execution_count": 2,
     "metadata": {},
     "output_type": "execute_result"
    }
   ],
   "source": [
    "import numpy as np\n",
    "import pandas as pd\n",
    "\n",
    "df = pd.read_csv('data/dataKBK.csv')\n",
    "df.head()"
   ]
  },
  {
   "cell_type": "markdown",
   "metadata": {},
   "source": [
    "# Data Exploration"
   ]
  },
  {
   "cell_type": "code",
   "execution_count": 4,
   "metadata": {},
   "outputs": [
    {
     "data": {
      "text/plain": [
       "2164"
      ]
     },
     "execution_count": 4,
     "metadata": {},
     "output_type": "execute_result"
    }
   ],
   "source": [
    "# Jumlah baris pada dataset\n",
    "len(df)"
   ]
  },
  {
   "cell_type": "code",
   "execution_count": 5,
   "metadata": {},
   "outputs": [
    {
     "data": {
      "text/plain": [
       "Pengembangan Aplikasi dan Media Pembelajaran Teknologi dan Kejuruan              463\n",
       "Strategi Pembelajaran Teknologi dan Kejuruan                                     395\n",
       "Kurikulum Pendidikan Teknologi dan Kejuruan                                      200\n",
       "Rekayasa pengetahuan dan ilmu data (Knowledge Engineering and Data Science)      174\n",
       "Evaluasi dan Pengelolaan Pendidikan Kejuruan                                     155\n",
       "Ketenegakerjaan Teknologi dan Kejuruan                                           142\n",
       "Teknologi Digital Cerdas (Ubiquitous Computing Technique)                        132\n",
       "Intelligent Power and Advanced energy System (IPAES)                             121\n",
       "Intelligent Power Electronics and Smart Grid (IPESG)                             104\n",
       "Telematics loT System and Devices                                                 90\n",
       "Game Technology and Machine Learning Applications                                 88\n",
       "Biomedic and Intelligent Assistive Technology (TAT)                               55\n",
       "Sistem Dinamis, Kendali, dan Robotika (Dynamic Systems, Control and Robotics)     45\n",
       "Name: kbk, dtype: int64"
      ]
     },
     "execution_count": 5,
     "metadata": {},
     "output_type": "execute_result"
    }
   ],
   "source": [
    "# Jumlah data pada masing-masing label KBK\n",
    "df['kbk'].value_counts()"
   ]
  },
  {
   "cell_type": "code",
   "execution_count": 6,
   "metadata": {},
   "outputs": [
    {
     "data": {
      "image/png": "[encoded data removed]",
      "text/plain": [
       "<Figure size 432x288 with 1 Axes>"
      ]
     },
     "metadata": {
      "needs_background": "light"
     },
     "output_type": "display_data"
    }
   ],
   "source": [
    "import matplotlib.pyplot as plt\n",
    "\n",
    "df['kbk'].value_counts().plot(kind='barh')\n",
    "plt.show()"
   ]
  },
  {
   "cell_type": "markdown",
   "metadata": {},
   "source": [
    "# Text Preprocessing"
   ]
  },
  {
   "cell_type": "markdown",
   "metadata": {},
   "source": [
    "## Text Cleaning"
   ]
  },
  {
   "cell_type": "code",
   "execution_count": 7,
   "metadata": {},
   "outputs": [
    {
     "data": {
      "text/html": [
       "<div>\n",
       "<style scoped>\n",
       "    .dataframe tbody tr th:only-of-type {\n",
       "        vertical-align: middle;\n",
       "    }\n",
       "\n",
       "    .dataframe tbody tr th {\n",
       "        vertical-align: top;\n",
       "    }\n",
       "\n",
       "    .dataframe thead th {\n",
       "        text-align: right;\n",
       "    }\n",
       "</style>\n",
       "<table border=\"1\" class=\"dataframe\">\n",
       "  <thead>\n",
       "    <tr style=\"text-align: right;\">\n",
       "      <th></th>\n",
       "      <th>Unnamed: 0</th>\n",
       "      <th>judul</th>\n",
       "      <th>abstrak</th>\n",
       "      <th>kbk</th>\n",
       "    </tr>\n",
       "  </thead>\n",
       "  <tbody>\n",
       "    <tr>\n",
       "      <th>0</th>\n",
       "      <td>0</td>\n",
       "      <td>pengembangan sistem pendukung keputusan untuk ...</td>\n",
       "      <td>sistem pendukung keputusan spk merupakan suatu...</td>\n",
       "      <td>Pengembangan Aplikasi dan Media Pembelajaran T...</td>\n",
       "    </tr>\n",
       "    <tr>\n",
       "      <th>1</th>\n",
       "      <td>1</td>\n",
       "      <td>hubungan efikasi diri dengan kesiapan kerja lu...</td>\n",
       "      <td>pandemi covid 19 yang melanda dunia terutama i...</td>\n",
       "      <td>Ketenegakerjaan Teknologi dan Kejuruan</td>\n",
       "    </tr>\n",
       "    <tr>\n",
       "      <th>2</th>\n",
       "      <td>2</td>\n",
       "      <td>alat bantu penyandang tuetra berbasis deteksi ...</td>\n",
       "      <td>tujuan dilakukannya penelitian ini untuk memba...</td>\n",
       "      <td>Biomedic and Intelligent Assistive Technology ...</td>\n",
       "    </tr>\n",
       "    <tr>\n",
       "      <th>3</th>\n",
       "      <td>3</td>\n",
       "      <td>analisis thermovisi penghantar akibat transmis...</td>\n",
       "      <td>gardu induk waru merupakan sub transmisi listr...</td>\n",
       "      <td>Intelligent Power Electronics and Smart Grid (...</td>\n",
       "    </tr>\n",
       "    <tr>\n",
       "      <th>4</th>\n",
       "      <td>4</td>\n",
       "      <td>pengembangan modulberbasis production based ed...</td>\n",
       "      <td>mata pelajaran dasar desain grafis merupakan m...</td>\n",
       "      <td>Pengembangan Aplikasi dan Media Pembelajaran T...</td>\n",
       "    </tr>\n",
       "  </tbody>\n",
       "</table>\n",
       "</div>"
      ],
      "text/plain": [
       "   Unnamed: 0                                              judul  \\\n",
       "0           0  pengembangan sistem pendukung keputusan untuk ...   \n",
       "1           1  hubungan efikasi diri dengan kesiapan kerja lu...   \n",
       "2           2  alat bantu penyandang tuetra berbasis deteksi ...   \n",
       "3           3  analisis thermovisi penghantar akibat transmis...   \n",
       "4           4  pengembangan modulberbasis production based ed...   \n",
       "\n",
       "                                             abstrak  \\\n",
       "0  sistem pendukung keputusan spk merupakan suatu...   \n",
       "1  pandemi covid 19 yang melanda dunia terutama i...   \n",
       "2  tujuan dilakukannya penelitian ini untuk memba...   \n",
       "3  gardu induk waru merupakan sub transmisi listr...   \n",
       "4  mata pelajaran dasar desain grafis merupakan m...   \n",
       "\n",
       "                                                 kbk  \n",
       "0  Pengembangan Aplikasi dan Media Pembelajaran T...  \n",
       "1             Ketenegakerjaan Teknologi dan Kejuruan  \n",
       "2  Biomedic and Intelligent Assistive Technology ...  \n",
       "3  Intelligent Power Electronics and Smart Grid (...  \n",
       "4  Pengembangan Aplikasi dan Media Pembelajaran T...  "
      ]
     },
     "execution_count": 7,
     "metadata": {},
     "output_type": "execute_result"
    }
   ],
   "source": [
    "import re, string\n",
    "\n",
    "# Text Cleaning\n",
    "def cleaning(text):\n",
    "    # HTML Tag Removal\n",
    "    text = re.compile('<.*?>|&([a-z0-9]+|#[0-9]{1,6}|#x[0-9a-f]{1,6});').sub('', str(text))\n",
    "\n",
    "    # Case folding\n",
    "    text = text.lower()\n",
    "\n",
    "    # Trim text\n",
    "    text = text.strip()\n",
    "\n",
    "    # Remove punctuations, karakter spesial, and spasi ganda\n",
    "    text = re.compile('<.*?>').sub('', text)\n",
    "    text = re.compile('[%s]' % re.escape(string.punctuation)).sub(' ', text)\n",
    "    text = re.sub('\\s+', ' ', text)\n",
    "\n",
    "    # Number removal\n",
    "    text = re.sub(r'\\[[0-9]*\\]', ' ', text)\n",
    "    text = re.sub(r'[^\\w\\s]', '', str(text).lower().strip())\n",
    "\n",
    "    # Mengubah text 'nan' dengan whitespace agar nantinya dapat dihapus\n",
    "    text = re.sub('nan', '', text)\n",
    "\n",
    "    return text\n",
    "\n",
    "df['judul'] = df['judul'].apply(lambda x: cleaning(x))\n",
    "df['abstrak'] = df['abstrak'].apply(lambda x: cleaning(x))\n",
    "\n",
    "df.head()"
   ]
  },
  {
   "cell_type": "code",
   "execution_count": 8,
   "metadata": {},
   "outputs": [],
   "source": [
    "# Checkpoint: Export Hasil Text Cleaning\n",
    "df.to_csv('text-cleaning.csv')"
   ]
  },
  {
   "cell_type": "markdown",
   "metadata": {},
   "source": [
    "## Remove Missing Values"
   ]
  },
  {
   "cell_type": "code",
   "execution_count": 9,
   "metadata": {},
   "outputs": [],
   "source": [
    "# Ubah empty string menjadi NaN value\n",
    "df = df.replace('', np.nan)"
   ]
  },
  {
   "cell_type": "code",
   "execution_count": 10,
   "metadata": {},
   "outputs": [
    {
     "data": {
      "text/plain": [
       "Unnamed: 0      0\n",
       "judul           4\n",
       "abstrak       896\n",
       "kbk             0\n",
       "dtype: int64"
      ]
     },
     "execution_count": 10,
     "metadata": {},
     "output_type": "execute_result"
    }
   ],
   "source": [
    "# Cek missing values\n",
    "df.isnull().sum()"
   ]
  },
  {
   "cell_type": "code",
   "execution_count": 11,
   "metadata": {},
   "outputs": [
    {
     "data": {
      "text/plain": [
       "1266"
      ]
     },
     "execution_count": 11,
     "metadata": {},
     "output_type": "execute_result"
    }
   ],
   "source": [
    "# Remove missing values\n",
    "df.dropna(inplace=True)\n",
    "len(df)"
   ]
  },
  {
   "cell_type": "markdown",
   "metadata": {},
   "source": [
    "## Remove Duplicate Values"
   ]
  },
  {
   "cell_type": "code",
   "execution_count": 12,
   "metadata": {},
   "outputs": [
    {
     "data": {
      "text/html": [
       "<div>\n",
       "<style scoped>\n",
       "    .dataframe tbody tr th:only-of-type {\n",
       "        vertical-align: middle;\n",
       "    }\n",
       "\n",
       "    .dataframe tbody tr th {\n",
       "        vertical-align: top;\n",
       "    }\n",
       "\n",
       "    .dataframe thead th {\n",
       "        text-align: right;\n",
       "    }\n",
       "</style>\n",
       "<table border=\"1\" class=\"dataframe\">\n",
       "  <thead>\n",
       "    <tr style=\"text-align: right;\">\n",
       "      <th></th>\n",
       "      <th>Unnamed: 0</th>\n",
       "      <th>judul</th>\n",
       "      <th>abstrak</th>\n",
       "      <th>kbk</th>\n",
       "    </tr>\n",
       "  </thead>\n",
       "  <tbody>\n",
       "    <tr>\n",
       "      <th>1243</th>\n",
       "      <td>1243</td>\n",
       "      <td>pengembangan sistem pendukung keputusan untuk ...</td>\n",
       "      <td>proses penentuan dosen pembimbing skripsi atau...</td>\n",
       "      <td>Game Technology and Machine Learning Applications</td>\n",
       "    </tr>\n",
       "  </tbody>\n",
       "</table>\n",
       "</div>"
      ],
      "text/plain": [
       "      Unnamed: 0                                              judul  \\\n",
       "1243        1243  pengembangan sistem pendukung keputusan untuk ...   \n",
       "\n",
       "                                                abstrak  \\\n",
       "1243  proses penentuan dosen pembimbing skripsi atau...   \n",
       "\n",
       "                                                    kbk  \n",
       "1243  Game Technology and Machine Learning Applications  "
      ]
     },
     "execution_count": 12,
     "metadata": {},
     "output_type": "execute_result"
    }
   ],
   "source": [
    "# Cek apakah terdapat duplikasi data pada kolom judul\n",
    "df[df['judul'].duplicated()]"
   ]
  },
  {
   "cell_type": "code",
   "execution_count": 13,
   "metadata": {},
   "outputs": [
    {
     "data": {
      "text/html": [
       "<div>\n",
       "<style scoped>\n",
       "    .dataframe tbody tr th:only-of-type {\n",
       "        vertical-align: middle;\n",
       "    }\n",
       "\n",
       "    .dataframe tbody tr th {\n",
       "        vertical-align: top;\n",
       "    }\n",
       "\n",
       "    .dataframe thead th {\n",
       "        text-align: right;\n",
       "    }\n",
       "</style>\n",
       "<table border=\"1\" class=\"dataframe\">\n",
       "  <thead>\n",
       "    <tr style=\"text-align: right;\">\n",
       "      <th></th>\n",
       "      <th>Unnamed: 0</th>\n",
       "      <th>judul</th>\n",
       "      <th>abstrak</th>\n",
       "      <th>kbk</th>\n",
       "    </tr>\n",
       "  </thead>\n",
       "  <tbody>\n",
       "  </tbody>\n",
       "</table>\n",
       "</div>"
      ],
      "text/plain": [
       "Empty DataFrame\n",
       "Columns: [Unnamed: 0, judul, abstrak, kbk]\n",
       "Index: []"
      ]
     },
     "execution_count": 13,
     "metadata": {},
     "output_type": "execute_result"
    }
   ],
   "source": [
    "# Remove duplicates judul\n",
    "df.drop_duplicates(subset=['judul'], inplace=True)\n",
    "\n",
    "# Cek apakah masih terdapat duplikasi data pada kolom judul\n",
    "df[df['judul'].duplicated()]"
   ]
  },
  {
   "cell_type": "code",
   "execution_count": 14,
   "metadata": {},
   "outputs": [
    {
     "data": {
      "text/html": [
       "<div>\n",
       "<style scoped>\n",
       "    .dataframe tbody tr th:only-of-type {\n",
       "        vertical-align: middle;\n",
       "    }\n",
       "\n",
       "    .dataframe tbody tr th {\n",
       "        vertical-align: top;\n",
       "    }\n",
       "\n",
       "    .dataframe thead th {\n",
       "        text-align: right;\n",
       "    }\n",
       "</style>\n",
       "<table border=\"1\" class=\"dataframe\">\n",
       "  <thead>\n",
       "    <tr style=\"text-align: right;\">\n",
       "      <th></th>\n",
       "      <th>Unnamed: 0</th>\n",
       "      <th>judul</th>\n",
       "      <th>abstrak</th>\n",
       "      <th>kbk</th>\n",
       "    </tr>\n",
       "  </thead>\n",
       "  <tbody>\n",
       "    <tr>\n",
       "      <th>259</th>\n",
       "      <td>259</td>\n",
       "      <td>pengembangan alat peraga pemindah barang berba...</td>\n",
       "      <td>industri dan perkembangannya tentu tidak lepas...</td>\n",
       "      <td>Pengembangan Aplikasi dan Media Pembelajaran T...</td>\n",
       "    </tr>\n",
       "  </tbody>\n",
       "</table>\n",
       "</div>"
      ],
      "text/plain": [
       "     Unnamed: 0                                              judul  \\\n",
       "259         259  pengembangan alat peraga pemindah barang berba...   \n",
       "\n",
       "                                               abstrak  \\\n",
       "259  industri dan perkembangannya tentu tidak lepas...   \n",
       "\n",
       "                                                   kbk  \n",
       "259  Pengembangan Aplikasi dan Media Pembelajaran T...  "
      ]
     },
     "execution_count": 14,
     "metadata": {},
     "output_type": "execute_result"
    }
   ],
   "source": [
    "# Cek apakah terdapat duplikasi data pada kolom abstrak\n",
    "df[df['abstrak'].duplicated()]"
   ]
  },
  {
   "cell_type": "code",
   "execution_count": 15,
   "metadata": {},
   "outputs": [
    {
     "data": {
      "text/html": [
       "<div>\n",
       "<style scoped>\n",
       "    .dataframe tbody tr th:only-of-type {\n",
       "        vertical-align: middle;\n",
       "    }\n",
       "\n",
       "    .dataframe tbody tr th {\n",
       "        vertical-align: top;\n",
       "    }\n",
       "\n",
       "    .dataframe thead th {\n",
       "        text-align: right;\n",
       "    }\n",
       "</style>\n",
       "<table border=\"1\" class=\"dataframe\">\n",
       "  <thead>\n",
       "    <tr style=\"text-align: right;\">\n",
       "      <th></th>\n",
       "      <th>Unnamed: 0</th>\n",
       "      <th>judul</th>\n",
       "      <th>abstrak</th>\n",
       "      <th>kbk</th>\n",
       "    </tr>\n",
       "  </thead>\n",
       "  <tbody>\n",
       "  </tbody>\n",
       "</table>\n",
       "</div>"
      ],
      "text/plain": [
       "Empty DataFrame\n",
       "Columns: [Unnamed: 0, judul, abstrak, kbk]\n",
       "Index: []"
      ]
     },
     "execution_count": 15,
     "metadata": {},
     "output_type": "execute_result"
    }
   ],
   "source": [
    "# Remove duplicates abstrak\n",
    "df.drop_duplicates(subset=['abstrak'], inplace=True)\n",
    "\n",
    "# Cek apakah masih terdapat duplikasi data pada kolom abstrak\n",
    "df[df['abstrak'].duplicated()]"
   ]
  },
  {
   "cell_type": "code",
   "execution_count": 16,
   "metadata": {},
   "outputs": [],
   "source": [
    "# Checkpoint: Export Hasil Preprocessing\n",
    "df.to_csv('preprocessed-data.csv')"
   ]
  },
  {
   "cell_type": "code",
   "execution_count": 17,
   "metadata": {},
   "outputs": [
    {
     "data": {
      "image/png": "[encoded data removed]",
      "text/plain": [
       "<Figure size 432x288 with 1 Axes>"
      ]
     },
     "metadata": {
      "needs_background": "light"
     },
     "output_type": "display_data"
    }
   ],
   "source": [
    "# Distribusi Kelas setelah Text Preprocessing\n",
    "df['kbk'].value_counts().plot(kind='barh')\n",
    "plt.show()"
   ]
  },
  {
   "cell_type": "markdown",
   "metadata": {},
   "source": [
    "## Tokenization"
   ]
  },
  {
   "cell_type": "code",
   "execution_count": 58,
   "metadata": {},
   "outputs": [
    {
     "data": {
      "text/html": [
       "<div>\n",
       "<style scoped>\n",
       "    .dataframe tbody tr th:only-of-type {\n",
       "        vertical-align: middle;\n",
       "    }\n",
       "\n",
       "    .dataframe tbody tr th {\n",
       "        vertical-align: top;\n",
       "    }\n",
       "\n",
       "    .dataframe thead th {\n",
       "        text-align: right;\n",
       "    }\n",
       "</style>\n",
       "<table border=\"1\" class=\"dataframe\">\n",
       "  <thead>\n",
       "    <tr style=\"text-align: right;\">\n",
       "      <th></th>\n",
       "      <th>judul</th>\n",
       "      <th>judul_tokens</th>\n",
       "    </tr>\n",
       "  </thead>\n",
       "  <tbody>\n",
       "    <tr>\n",
       "      <th>0</th>\n",
       "      <td>pengembangan sistem pendukung keputusan untuk ...</td>\n",
       "      <td>[pengembangan, sistem, pendukung, keputusan, u...</td>\n",
       "    </tr>\n",
       "    <tr>\n",
       "      <th>1</th>\n",
       "      <td>hubungan efikasi diri dengan kesiapan kerja lu...</td>\n",
       "      <td>[hubungan, efikasi, diri, dengan, kesiapan, ke...</td>\n",
       "    </tr>\n",
       "    <tr>\n",
       "      <th>2</th>\n",
       "      <td>alat bantu penyandang tuetra berbasis deteksi ...</td>\n",
       "      <td>[alat, bantu, penyandang, tuetra, berbasis, de...</td>\n",
       "    </tr>\n",
       "    <tr>\n",
       "      <th>3</th>\n",
       "      <td>analisis thermovisi penghantar akibat transmis...</td>\n",
       "      <td>[analisis, thermovisi, penghantar, akibat, tra...</td>\n",
       "    </tr>\n",
       "    <tr>\n",
       "      <th>4</th>\n",
       "      <td>pengembangan modulberbasis production based ed...</td>\n",
       "      <td>[pengembangan, modulberbasis, production, base...</td>\n",
       "    </tr>\n",
       "  </tbody>\n",
       "</table>\n",
       "</div>"
      ],
      "text/plain": [
       "                                               judul  \\\n",
       "0  pengembangan sistem pendukung keputusan untuk ...   \n",
       "1  hubungan efikasi diri dengan kesiapan kerja lu...   \n",
       "2  alat bantu penyandang tuetra berbasis deteksi ...   \n",
       "3  analisis thermovisi penghantar akibat transmis...   \n",
       "4  pengembangan modulberbasis production based ed...   \n",
       "\n",
       "                                        judul_tokens  \n",
       "0  [pengembangan, sistem, pendukung, keputusan, u...  \n",
       "1  [hubungan, efikasi, diri, dengan, kesiapan, ke...  \n",
       "2  [alat, bantu, penyandang, tuetra, berbasis, de...  \n",
       "3  [analisis, thermovisi, penghantar, akibat, tra...  \n",
       "4  [pengembangan, modulberbasis, production, base...  "
      ]
     },
     "execution_count": 58,
     "metadata": {},
     "output_type": "execute_result"
    }
   ],
   "source": [
    "from nltk.tokenize import word_tokenize\n",
    "\n",
    "# Tokenizing Judul\n",
    "df['judul_tokens'] = df['judul'].apply(lambda x: word_tokenize(x))\n",
    "df[[\"judul\", \"judul_tokens\"]].head()"
   ]
  },
  {
   "cell_type": "code",
   "execution_count": 59,
   "metadata": {},
   "outputs": [
    {
     "data": {
      "text/html": [
       "<div>\n",
       "<style scoped>\n",
       "    .dataframe tbody tr th:only-of-type {\n",
       "        vertical-align: middle;\n",
       "    }\n",
       "\n",
       "    .dataframe tbody tr th {\n",
       "        vertical-align: top;\n",
       "    }\n",
       "\n",
       "    .dataframe thead th {\n",
       "        text-align: right;\n",
       "    }\n",
       "</style>\n",
       "<table border=\"1\" class=\"dataframe\">\n",
       "  <thead>\n",
       "    <tr style=\"text-align: right;\">\n",
       "      <th></th>\n",
       "      <th>abstrak</th>\n",
       "      <th>abstrak_tokens</th>\n",
       "    </tr>\n",
       "  </thead>\n",
       "  <tbody>\n",
       "    <tr>\n",
       "      <th>0</th>\n",
       "      <td>sistem pendukung keputusan spk merupakan suatu...</td>\n",
       "      <td>[sistem, pendukung, keputusan, spk, merupakan,...</td>\n",
       "    </tr>\n",
       "    <tr>\n",
       "      <th>1</th>\n",
       "      <td>pandemi covid 19 yang melanda dunia terutama i...</td>\n",
       "      <td>[pandemi, covid, 19, yang, melanda, dunia, ter...</td>\n",
       "    </tr>\n",
       "    <tr>\n",
       "      <th>2</th>\n",
       "      <td>tujuan dilakukannya penelitian ini untuk memba...</td>\n",
       "      <td>[tujuan, dilakukannya, penelitian, ini, untuk,...</td>\n",
       "    </tr>\n",
       "    <tr>\n",
       "      <th>3</th>\n",
       "      <td>gardu induk waru merupakan sub transmisi listr...</td>\n",
       "      <td>[gardu, induk, waru, merupakan, sub, transmisi...</td>\n",
       "    </tr>\n",
       "    <tr>\n",
       "      <th>4</th>\n",
       "      <td>mata pelajaran dasar desain grafis merupakan m...</td>\n",
       "      <td>[mata, pelajaran, dasar, desain, grafis, merup...</td>\n",
       "    </tr>\n",
       "  </tbody>\n",
       "</table>\n",
       "</div>"
      ],
      "text/plain": [
       "                                             abstrak  \\\n",
       "0  sistem pendukung keputusan spk merupakan suatu...   \n",
       "1  pandemi covid 19 yang melanda dunia terutama i...   \n",
       "2  tujuan dilakukannya penelitian ini untuk memba...   \n",
       "3  gardu induk waru merupakan sub transmisi listr...   \n",
       "4  mata pelajaran dasar desain grafis merupakan m...   \n",
       "\n",
       "                                      abstrak_tokens  \n",
       "0  [sistem, pendukung, keputusan, spk, merupakan,...  \n",
       "1  [pandemi, covid, 19, yang, melanda, dunia, ter...  \n",
       "2  [tujuan, dilakukannya, penelitian, ini, untuk,...  \n",
       "3  [gardu, induk, waru, merupakan, sub, transmisi...  \n",
       "4  [mata, pelajaran, dasar, desain, grafis, merup...  "
      ]
     },
     "execution_count": 59,
     "metadata": {},
     "output_type": "execute_result"
    }
   ],
   "source": [
    "# Tokenizing Abstrak\n",
    "df['abstrak_tokens'] = df['abstrak'].apply(lambda x: word_tokenize(x))\n",
    "df[[\"abstrak\", \"abstrak_tokens\"]].head()"
   ]
  },
  {
   "cell_type": "markdown",
   "metadata": {},
   "source": [
    "## Stop Words Removal"
   ]
  },
  {
   "cell_type": "code",
   "execution_count": 60,
   "metadata": {},
   "outputs": [
    {
     "data": {
      "text/html": [
       "<div>\n",
       "<style scoped>\n",
       "    .dataframe tbody tr th:only-of-type {\n",
       "        vertical-align: middle;\n",
       "    }\n",
       "\n",
       "    .dataframe tbody tr th {\n",
       "        vertical-align: top;\n",
       "    }\n",
       "\n",
       "    .dataframe thead th {\n",
       "        text-align: right;\n",
       "    }\n",
       "</style>\n",
       "<table border=\"1\" class=\"dataframe\">\n",
       "  <thead>\n",
       "    <tr style=\"text-align: right;\">\n",
       "      <th></th>\n",
       "      <th>judul</th>\n",
       "      <th>judul_tokens</th>\n",
       "    </tr>\n",
       "  </thead>\n",
       "  <tbody>\n",
       "    <tr>\n",
       "      <th>0</th>\n",
       "      <td>pengembangan sistem pendukung keputusan untuk ...</td>\n",
       "      <td>[pengembangan, sistem, pendukung, keputusan, m...</td>\n",
       "    </tr>\n",
       "    <tr>\n",
       "      <th>1</th>\n",
       "      <td>hubungan efikasi diri dengan kesiapan kerja lu...</td>\n",
       "      <td>[hubungan, efikasi, kesiapan, kerja, lulusan, ...</td>\n",
       "    </tr>\n",
       "    <tr>\n",
       "      <th>2</th>\n",
       "      <td>alat bantu penyandang tuetra berbasis deteksi ...</td>\n",
       "      <td>[alat, bantu, penyandang, tuetra, berbasis, de...</td>\n",
       "    </tr>\n",
       "    <tr>\n",
       "      <th>3</th>\n",
       "      <td>analisis thermovisi penghantar akibat transmis...</td>\n",
       "      <td>[analisis, thermovisi, penghantar, akibat, tra...</td>\n",
       "    </tr>\n",
       "    <tr>\n",
       "      <th>4</th>\n",
       "      <td>pengembangan modulberbasis production based ed...</td>\n",
       "      <td>[pengembangan, modulberbasis, production, base...</td>\n",
       "    </tr>\n",
       "  </tbody>\n",
       "</table>\n",
       "</div>"
      ],
      "text/plain": [
       "                                               judul  \\\n",
       "0  pengembangan sistem pendukung keputusan untuk ...   \n",
       "1  hubungan efikasi diri dengan kesiapan kerja lu...   \n",
       "2  alat bantu penyandang tuetra berbasis deteksi ...   \n",
       "3  analisis thermovisi penghantar akibat transmis...   \n",
       "4  pengembangan modulberbasis production based ed...   \n",
       "\n",
       "                                        judul_tokens  \n",
       "0  [pengembangan, sistem, pendukung, keputusan, m...  \n",
       "1  [hubungan, efikasi, kesiapan, kerja, lulusan, ...  \n",
       "2  [alat, bantu, penyandang, tuetra, berbasis, de...  \n",
       "3  [analisis, thermovisi, penghantar, akibat, tra...  \n",
       "4  [pengembangan, modulberbasis, production, base...  "
      ]
     },
     "execution_count": 60,
     "metadata": {},
     "output_type": "execute_result"
    }
   ],
   "source": [
    "from nltk.corpus import stopwords \n",
    "from itertools import chain\n",
    "\n",
    "stop_words = set(chain(stopwords.words('indonesian'), stopwords.words('english')))\n",
    "\n",
    "df['judul_tokens'] = df['judul_tokens'].apply(lambda x: [w for w in x if not w in stop_words])\n",
    "df['abstrak_tokens'] = df['abstrak_tokens'].apply(lambda x: [w for w in x if not w in stop_words])\n",
    "\n",
    "df[[\"judul\", \"judul_tokens\"]].head()"
   ]
  },
  {
   "cell_type": "code",
   "execution_count": 61,
   "metadata": {},
   "outputs": [
    {
     "data": {
      "text/html": [
       "<div>\n",
       "<style scoped>\n",
       "    .dataframe tbody tr th:only-of-type {\n",
       "        vertical-align: middle;\n",
       "    }\n",
       "\n",
       "    .dataframe tbody tr th {\n",
       "        vertical-align: top;\n",
       "    }\n",
       "\n",
       "    .dataframe thead th {\n",
       "        text-align: right;\n",
       "    }\n",
       "</style>\n",
       "<table border=\"1\" class=\"dataframe\">\n",
       "  <thead>\n",
       "    <tr style=\"text-align: right;\">\n",
       "      <th></th>\n",
       "      <th>abstrak</th>\n",
       "      <th>abstrak_tokens</th>\n",
       "    </tr>\n",
       "  </thead>\n",
       "  <tbody>\n",
       "    <tr>\n",
       "      <th>0</th>\n",
       "      <td>sistem pendukung keputusan spk merupakan suatu...</td>\n",
       "      <td>[sistem, pendukung, keputusan, spk, sistem, me...</td>\n",
       "    </tr>\n",
       "    <tr>\n",
       "      <th>1</th>\n",
       "      <td>pandemi covid 19 yang melanda dunia terutama i...</td>\n",
       "      <td>[pandemi, covid, 19, melanda, dunia, indonesia...</td>\n",
       "    </tr>\n",
       "    <tr>\n",
       "      <th>2</th>\n",
       "      <td>tujuan dilakukannya penelitian ini untuk memba...</td>\n",
       "      <td>[tujuan, dilakukannya, penelitian, membantu, p...</td>\n",
       "    </tr>\n",
       "    <tr>\n",
       "      <th>3</th>\n",
       "      <td>gardu induk waru merupakan sub transmisi listr...</td>\n",
       "      <td>[gardu, induk, waru, sub, transmisi, listrik, ...</td>\n",
       "    </tr>\n",
       "    <tr>\n",
       "      <th>4</th>\n",
       "      <td>mata pelajaran dasar desain grafis merupakan m...</td>\n",
       "      <td>[mata, pelajaran, dasar, desain, grafis, mata,...</td>\n",
       "    </tr>\n",
       "  </tbody>\n",
       "</table>\n",
       "</div>"
      ],
      "text/plain": [
       "                                             abstrak  \\\n",
       "0  sistem pendukung keputusan spk merupakan suatu...   \n",
       "1  pandemi covid 19 yang melanda dunia terutama i...   \n",
       "2  tujuan dilakukannya penelitian ini untuk memba...   \n",
       "3  gardu induk waru merupakan sub transmisi listr...   \n",
       "4  mata pelajaran dasar desain grafis merupakan m...   \n",
       "\n",
       "                                      abstrak_tokens  \n",
       "0  [sistem, pendukung, keputusan, spk, sistem, me...  \n",
       "1  [pandemi, covid, 19, melanda, dunia, indonesia...  \n",
       "2  [tujuan, dilakukannya, penelitian, membantu, p...  \n",
       "3  [gardu, induk, waru, sub, transmisi, listrik, ...  \n",
       "4  [mata, pelajaran, dasar, desain, grafis, mata,...  "
      ]
     },
     "execution_count": 61,
     "metadata": {},
     "output_type": "execute_result"
    }
   ],
   "source": [
    "df[[\"abstrak\", \"abstrak_tokens\"]].head()"
   ]
  },
  {
   "cell_type": "markdown",
   "metadata": {},
   "source": [
    "## Stemming"
   ]
  },
  {
   "cell_type": "code",
   "execution_count": 62,
   "metadata": {},
   "outputs": [
    {
     "name": "stderr",
     "output_type": "stream",
     "text": [
      "c:\\Users\\ASUS\\anaconda3\\lib\\site-packages\\tqdm\\std.py:668: FutureWarning: The Panel class is removed from pandas. Accessing it from the top-level namespace will also be removed in the next version\n",
      "  from pandas import Panel\n",
      "100%|██████████| 1264/1264 [03:23<00:00,  6.21it/s]\n"
     ]
    }
   ],
   "source": [
    "from Sastrawi.Stemmer.StemmerFactory import StemmerFactory\n",
    "from tqdm.auto import tqdm\n",
    "tqdm.pandas()\n",
    "\n",
    "factory = StemmerFactory()\n",
    "stemmer = factory.create_stemmer()\n",
    "\n",
    "# Stemming judul\n",
    "df['judul_tokens'] = df['judul_tokens'].progress_apply(lambda x: stemmer.stem(' '.join(x)).split(' '))"
   ]
  },
  {
   "cell_type": "code",
   "execution_count": 63,
   "metadata": {},
   "outputs": [
    {
     "data": {
      "text/html": [
       "<div>\n",
       "<style scoped>\n",
       "    .dataframe tbody tr th:only-of-type {\n",
       "        vertical-align: middle;\n",
       "    }\n",
       "\n",
       "    .dataframe tbody tr th {\n",
       "        vertical-align: top;\n",
       "    }\n",
       "\n",
       "    .dataframe thead th {\n",
       "        text-align: right;\n",
       "    }\n",
       "</style>\n",
       "<table border=\"1\" class=\"dataframe\">\n",
       "  <thead>\n",
       "    <tr style=\"text-align: right;\">\n",
       "      <th></th>\n",
       "      <th>judul</th>\n",
       "      <th>judul_tokens</th>\n",
       "    </tr>\n",
       "  </thead>\n",
       "  <tbody>\n",
       "    <tr>\n",
       "      <th>0</th>\n",
       "      <td>pengembangan sistem pendukung keputusan untuk ...</td>\n",
       "      <td>[kembang, sistem, dukung, putus, tentu, dosen,...</td>\n",
       "    </tr>\n",
       "    <tr>\n",
       "      <th>1</th>\n",
       "      <td>hubungan efikasi diri dengan kesiapan kerja lu...</td>\n",
       "      <td>[hubung, efikasi, kesiap, kerja, lulus, smk, n...</td>\n",
       "    </tr>\n",
       "    <tr>\n",
       "      <th>2</th>\n",
       "      <td>alat bantu penyandang tuetra berbasis deteksi ...</td>\n",
       "      <td>[alat, bantu, sandang, tuetra, bas, deteksi, o...</td>\n",
       "    </tr>\n",
       "    <tr>\n",
       "      <th>3</th>\n",
       "      <td>analisis thermovisi penghantar akibat transmis...</td>\n",
       "      <td>[analisis, thermovisi, hantar, akibat, transmi...</td>\n",
       "    </tr>\n",
       "    <tr>\n",
       "      <th>4</th>\n",
       "      <td>pengembangan modulberbasis production based ed...</td>\n",
       "      <td>[kembang, modulberbasis, production, based, ed...</td>\n",
       "    </tr>\n",
       "  </tbody>\n",
       "</table>\n",
       "</div>"
      ],
      "text/plain": [
       "                                               judul  \\\n",
       "0  pengembangan sistem pendukung keputusan untuk ...   \n",
       "1  hubungan efikasi diri dengan kesiapan kerja lu...   \n",
       "2  alat bantu penyandang tuetra berbasis deteksi ...   \n",
       "3  analisis thermovisi penghantar akibat transmis...   \n",
       "4  pengembangan modulberbasis production based ed...   \n",
       "\n",
       "                                        judul_tokens  \n",
       "0  [kembang, sistem, dukung, putus, tentu, dosen,...  \n",
       "1  [hubung, efikasi, kesiap, kerja, lulus, smk, n...  \n",
       "2  [alat, bantu, sandang, tuetra, bas, deteksi, o...  \n",
       "3  [analisis, thermovisi, hantar, akibat, transmi...  \n",
       "4  [kembang, modulberbasis, production, based, ed...  "
      ]
     },
     "execution_count": 63,
     "metadata": {},
     "output_type": "execute_result"
    }
   ],
   "source": [
    "# Hasil stemming judul\n",
    "df[[\"judul\", \"judul_tokens\"]].head()"
   ]
  },
  {
   "cell_type": "code",
   "execution_count": 64,
   "metadata": {},
   "outputs": [
    {
     "name": "stderr",
     "output_type": "stream",
     "text": [
      "100%|██████████| 1264/1264 [12:59<00:00,  1.62it/s] \n"
     ]
    }
   ],
   "source": [
    "# Stemming abstrak\n",
    "df['abstrak_tokens'] = df['abstrak_tokens'].progress_apply(lambda x: stemmer.stem(' '.join(x)).split(' '))"
   ]
  },
  {
   "cell_type": "code",
   "execution_count": 65,
   "metadata": {},
   "outputs": [
    {
     "data": {
      "text/html": [
       "<div>\n",
       "<style scoped>\n",
       "    .dataframe tbody tr th:only-of-type {\n",
       "        vertical-align: middle;\n",
       "    }\n",
       "\n",
       "    .dataframe tbody tr th {\n",
       "        vertical-align: top;\n",
       "    }\n",
       "\n",
       "    .dataframe thead th {\n",
       "        text-align: right;\n",
       "    }\n",
       "</style>\n",
       "<table border=\"1\" class=\"dataframe\">\n",
       "  <thead>\n",
       "    <tr style=\"text-align: right;\">\n",
       "      <th></th>\n",
       "      <th>abstrak</th>\n",
       "      <th>abstrak_tokens</th>\n",
       "    </tr>\n",
       "  </thead>\n",
       "  <tbody>\n",
       "    <tr>\n",
       "      <th>0</th>\n",
       "      <td>sistem pendukung keputusan spk merupakan suatu...</td>\n",
       "      <td>[sistem, dukung, putus, spk, sistem, milik, ke...</td>\n",
       "    </tr>\n",
       "    <tr>\n",
       "      <th>1</th>\n",
       "      <td>pandemi covid 19 yang melanda dunia terutama i...</td>\n",
       "      <td>[pandemi, covid, 19, landa, dunia, indonesia, ...</td>\n",
       "    </tr>\n",
       "    <tr>\n",
       "      <th>2</th>\n",
       "      <td>tujuan dilakukannya penelitian ini untuk memba...</td>\n",
       "      <td>[tuju, laku, teliti, bantu, sandang, tuetra, g...</td>\n",
       "    </tr>\n",
       "    <tr>\n",
       "      <th>3</th>\n",
       "      <td>gardu induk waru merupakan sub transmisi listr...</td>\n",
       "      <td>[gardu, induk, waru, sub, transmisi, listrik, ...</td>\n",
       "    </tr>\n",
       "    <tr>\n",
       "      <th>4</th>\n",
       "      <td>mata pelajaran dasar desain grafis merupakan m...</td>\n",
       "      <td>[mata, ajar, dasar, desain, grafis, mata, ajar...</td>\n",
       "    </tr>\n",
       "  </tbody>\n",
       "</table>\n",
       "</div>"
      ],
      "text/plain": [
       "                                             abstrak  \\\n",
       "0  sistem pendukung keputusan spk merupakan suatu...   \n",
       "1  pandemi covid 19 yang melanda dunia terutama i...   \n",
       "2  tujuan dilakukannya penelitian ini untuk memba...   \n",
       "3  gardu induk waru merupakan sub transmisi listr...   \n",
       "4  mata pelajaran dasar desain grafis merupakan m...   \n",
       "\n",
       "                                      abstrak_tokens  \n",
       "0  [sistem, dukung, putus, spk, sistem, milik, ke...  \n",
       "1  [pandemi, covid, 19, landa, dunia, indonesia, ...  \n",
       "2  [tuju, laku, teliti, bantu, sandang, tuetra, g...  \n",
       "3  [gardu, induk, waru, sub, transmisi, listrik, ...  \n",
       "4  [mata, ajar, dasar, desain, grafis, mata, ajar...  "
      ]
     },
     "execution_count": 65,
     "metadata": {},
     "output_type": "execute_result"
    }
   ],
   "source": [
    "# Hasil stemming abstrak\n",
    "df[[\"abstrak\", \"abstrak_tokens\"]].head()"
   ]
  },
  {
   "cell_type": "markdown",
   "metadata": {},
   "source": [
    "## Export Cleaned Data"
   ]
  },
  {
   "cell_type": "code",
   "execution_count": 66,
   "metadata": {},
   "outputs": [],
   "source": [
    "df['judul_tokens'] = df['judul_tokens'].apply(lambda x: ' '.join(x))\n",
    "df['abstrak_tokens'] = df['abstrak_tokens'].apply(lambda x: ' '.join(x))\n",
    "\n",
    "df.to_csv('cleaned-data-kbk.csv')"
   ]
  }
 ],
 "metadata": {
  "kernelspec": {
   "display_name": "Python 3 (ipykernel)",
   "language": "python",
   "name": "python3"
  },
  "language_info": {
   "codemirror_mode": {
    "name": "ipython",
    "version": 3
   },
   "file_extension": ".py",
   "mimetype": "text/x-python",
   "name": "python",
   "nbconvert_exporter": "python",
   "pygments_lexer": "ipython3",
   "version": "3.8.3"
  },
  "vscode": {
   "interpreter": {
    "hash": "a90aeebcf29d64a654773811cc170cb25061cb2498f10ac689db374c7bf325de"
   }
  }
 },
 "nbformat": 4,
 "nbformat_minor": 2
}
