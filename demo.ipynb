{
 "cells": [
  {
   "cell_type": "markdown",
   "metadata": {},
   "source": [
    "# Demo"
   ]
  },
  {
   "cell_type": "code",
   "execution_count": 1,
   "metadata": {},
   "outputs": [],
   "source": [
    "import numpy as np\n",
    "import pandas as pd\n",
    "import joblib\n",
    "\n",
    "# tambahkan vectorizer tiap atribut yang telah disimpan di bawah sini\n",
    "vectorizer_judul = joblib.load('SVM/vectorizer_model_judul.joblib')\n",
    "vectorizer_abstrak = joblib.load('SVM/vectorizer_model_abstrak.joblib')\n",
    "vectorizer_judul_abstrak = joblib.load('SVM/vectorizer_model_judtrak.joblib')\n",
    "\n",
    "# tambahkan model tiap atribut yang telah disimpan di bawah sini\n",
    "model_judul = joblib.load('SVM/svm-model-judul.joblib')\n",
    "model_abstrak = joblib.load('SVM/svm-model-abstrak.joblib')\n",
    "model_judul_abstrak = joblib.load('SVM/svm-model-judul-abstrak.joblib')"
   ]
  },
  {
   "cell_type": "code",
   "execution_count": 10,
   "metadata": {},
   "outputs": [
    {
     "name": "stdout",
     "output_type": "stream",
     "text": [
      "Judul Skripsi: Klasifikasi KBK Menggunakan Algoritma Support Vector Machine\n",
      "                             Kelompok Bidang Keahlian  Probability\n",
      "8   Rekayasa pengetahuan dan ilmu data (Knowledge ...     0.538954\n",
      "2   Game Technology and Machine Learning Applications     0.363559\n",
      "3   Intelligent Power Electronics and Smart Grid (...     0.019181\n",
      "4   Intelligent Power and Advanced energy System (...     0.017674\n",
      "7   Pengembangan Aplikasi dan Media Pembelajaran T...     0.014713\n",
      "11  Teknologi Digital Cerdas (Ubiquitous Computing...     0.010221\n",
      "10       Strategi Pembelajaran Teknologi dan Kejuruan     0.008828\n",
      "6         Kurikulum Pendidikan Teknologi dan Kejuruan     0.006526\n",
      "12                  Telematics loT System and Devices     0.006311\n",
      "5              Ketenegakerjaan Teknologi dan Kejuruan     0.004993\n",
      "1        Evaluasi dan Pengelolaan Pendidikan Kejuruan     0.004919\n",
      "0   Biomedic and Intelligent Assistive Technology ...     0.002432\n",
      "9   Sistem Dinamis, Kendali, dan Robotika (Dynamic...     0.001691\n"
     ]
    }
   ],
   "source": [
    "title_input = input(\"Masukkan judul Skripsi:\\n\")\n",
    "\n",
    "hasil = model_judul.predict_proba(vectorizer_judul.transform([title_input]))\n",
    "\n",
    "print(f\"Judul Skripsi: {title_input}\")\n",
    "\n",
    "list1 = hasil.tolist()\n",
    "cls = model_judul.classes_\n",
    "list2 = cls.tolist()\n",
    "\n",
    "d = {\"Kelompok Bidang Keahlian\":list2,\"Probability\":list1[0]}\n",
    "df_proba = pd.DataFrame(d)\n",
    "\n",
    "print(df_proba.sort_values(\"Probability\", ascending=False))"
   ]
  }
 ],
 "metadata": {
  "kernelspec": {
   "display_name": "Python 3.8.3 ('base')",
   "language": "python",
   "name": "python3"
  },
  "language_info": {
   "codemirror_mode": {
    "name": "ipython",
    "version": 3
   },
   "file_extension": ".py",
   "mimetype": "text/x-python",
   "name": "python",
   "nbconvert_exporter": "python",
   "pygments_lexer": "ipython3",
   "version": "3.8.3"
  },
  "orig_nbformat": 4,
  "vscode": {
   "interpreter": {
    "hash": "a90aeebcf29d64a654773811cc170cb25061cb2498f10ac689db374c7bf325de"
   }
  }
 },
 "nbformat": 4,
 "nbformat_minor": 2
}
