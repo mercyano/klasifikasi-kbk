{
 "cells": [
  {
   "cell_type": "markdown",
   "metadata": {},
   "source": [
    "# Load Preprocessed Data"
   ]
  },
  {
   "cell_type": "code",
   "execution_count": 1,
   "metadata": {},
   "outputs": [
    {
     "data": {
      "text/html": [
       "<div>\n",
       "<style scoped>\n",
       "    .dataframe tbody tr th:only-of-type {\n",
       "        vertical-align: middle;\n",
       "    }\n",
       "\n",
       "    .dataframe tbody tr th {\n",
       "        vertical-align: top;\n",
       "    }\n",
       "\n",
       "    .dataframe thead th {\n",
       "        text-align: right;\n",
       "    }\n",
       "</style>\n",
       "<table border=\"1\" class=\"dataframe\">\n",
       "  <thead>\n",
       "    <tr style=\"text-align: right;\">\n",
       "      <th></th>\n",
       "      <th>Unnamed: 0</th>\n",
       "      <th>id</th>\n",
       "      <th>judul</th>\n",
       "      <th>abstrak</th>\n",
       "      <th>kbk</th>\n",
       "      <th>judul_tokens</th>\n",
       "      <th>abstrak_tokens</th>\n",
       "    </tr>\n",
       "  </thead>\n",
       "  <tbody>\n",
       "    <tr>\n",
       "      <th>0</th>\n",
       "      <td>0</td>\n",
       "      <td>1</td>\n",
       "      <td>pengembangan sistem pendukung keputusan untuk ...</td>\n",
       "      <td>sistem pendukung keputusan spk merupakan suatu...</td>\n",
       "      <td>Pengembangan Aplikasi dan Media Pembelajaran T...</td>\n",
       "      <td>kembang sistem dukung putus untuk tentu dosen ...</td>\n",
       "      <td>sistem dukung putus spk rupa suatu sistem yang...</td>\n",
       "    </tr>\n",
       "    <tr>\n",
       "      <th>1</th>\n",
       "      <td>1</td>\n",
       "      <td>3</td>\n",
       "      <td>hubungan efikasi diri dengan kesiapan kerja lu...</td>\n",
       "      <td>pandemi covid 19 yang melanda dunia terutama i...</td>\n",
       "      <td>Ketenegakerjaan Teknologi dan Kejuruan</td>\n",
       "      <td>hubung efikasi diri dengan kesiap kerja lulus ...</td>\n",
       "      <td>pandemi covid 19 yang landa dunia utama indone...</td>\n",
       "    </tr>\n",
       "    <tr>\n",
       "      <th>2</th>\n",
       "      <td>2</td>\n",
       "      <td>4</td>\n",
       "      <td>alat bantu penyandang tuetra berbasis deteksi ...</td>\n",
       "      <td>tujuan dilakukannya penelitian ini untuk memba...</td>\n",
       "      <td>Biomedic and Intelligent Assistive Technology ...</td>\n",
       "      <td>alat bantu sandang tuetra bas deteksi objek ca...</td>\n",
       "      <td>tuju laku teliti ini untuk bantu sandang tuetr...</td>\n",
       "    </tr>\n",
       "    <tr>\n",
       "      <th>3</th>\n",
       "      <td>3</td>\n",
       "      <td>6</td>\n",
       "      <td>analisis thermovisi penghantar akibat transmis...</td>\n",
       "      <td>gardu induk waru merupakan sub transmisi listr...</td>\n",
       "      <td>Intelligent Power Electronics and Smart Grid (...</td>\n",
       "      <td>analisis thermovisi hantar akibat transmission...</td>\n",
       "      <td>gardu induk waru rupa sub transmisi listrik ya...</td>\n",
       "    </tr>\n",
       "    <tr>\n",
       "      <th>4</th>\n",
       "      <td>4</td>\n",
       "      <td>7</td>\n",
       "      <td>pengembangan modulberbasis production based ed...</td>\n",
       "      <td>mata pelajaran dasar desain grafis merupakan m...</td>\n",
       "      <td>Pengembangan Aplikasi dan Media Pembelajaran T...</td>\n",
       "      <td>kembang modulberbasis production based educati...</td>\n",
       "      <td>mata ajar dasar desain grafis rupa mata ajar y...</td>\n",
       "    </tr>\n",
       "  </tbody>\n",
       "</table>\n",
       "</div>"
      ],
      "text/plain": [
       "   Unnamed: 0  id                                              judul  \\\n",
       "0           0   1  pengembangan sistem pendukung keputusan untuk ...   \n",
       "1           1   3  hubungan efikasi diri dengan kesiapan kerja lu...   \n",
       "2           2   4  alat bantu penyandang tuetra berbasis deteksi ...   \n",
       "3           3   6  analisis thermovisi penghantar akibat transmis...   \n",
       "4           4   7  pengembangan modulberbasis production based ed...   \n",
       "\n",
       "                                             abstrak  \\\n",
       "0  sistem pendukung keputusan spk merupakan suatu...   \n",
       "1  pandemi covid 19 yang melanda dunia terutama i...   \n",
       "2  tujuan dilakukannya penelitian ini untuk memba...   \n",
       "3  gardu induk waru merupakan sub transmisi listr...   \n",
       "4  mata pelajaran dasar desain grafis merupakan m...   \n",
       "\n",
       "                                                 kbk  \\\n",
       "0  Pengembangan Aplikasi dan Media Pembelajaran T...   \n",
       "1             Ketenegakerjaan Teknologi dan Kejuruan   \n",
       "2  Biomedic and Intelligent Assistive Technology ...   \n",
       "3  Intelligent Power Electronics and Smart Grid (...   \n",
       "4  Pengembangan Aplikasi dan Media Pembelajaran T...   \n",
       "\n",
       "                                        judul_tokens  \\\n",
       "0  kembang sistem dukung putus untuk tentu dosen ...   \n",
       "1  hubung efikasi diri dengan kesiap kerja lulus ...   \n",
       "2  alat bantu sandang tuetra bas deteksi objek ca...   \n",
       "3  analisis thermovisi hantar akibat transmission...   \n",
       "4  kembang modulberbasis production based educati...   \n",
       "\n",
       "                                      abstrak_tokens  \n",
       "0  sistem dukung putus spk rupa suatu sistem yang...  \n",
       "1  pandemi covid 19 yang landa dunia utama indone...  \n",
       "2  tuju laku teliti ini untuk bantu sandang tuetr...  \n",
       "3  gardu induk waru rupa sub transmisi listrik ya...  \n",
       "4  mata ajar dasar desain grafis rupa mata ajar y...  "
      ]
     },
     "execution_count": 1,
     "metadata": {},
     "output_type": "execute_result"
    }
   ],
   "source": [
    "import numpy as np\n",
    "import pandas as pd\n",
    "\n",
    "df = pd.read_csv('cleaned-data-kbk.csv')\n",
    "df.head()"
   ]
  },
  {
   "cell_type": "markdown",
   "metadata": {},
   "source": [
    "# Split Data"
   ]
  },
  {
   "cell_type": "code",
   "execution_count": 2,
   "metadata": {},
   "outputs": [],
   "source": [
    "from sklearn.model_selection import train_test_split\n",
    "\n",
    "X = df['judul_tokens']\n",
    "y = df['kbk']\n",
    "\n",
    "X_train, X_test, y_train, y_test = train_test_split(X, y, test_size=0.3, random_state=42)"
   ]
  },
  {
   "cell_type": "markdown",
   "metadata": {},
   "source": [
    "# Feature Extraction: TF-IDF"
   ]
  },
  {
   "cell_type": "code",
   "execution_count": 3,
   "metadata": {},
   "outputs": [
    {
     "data": {
      "text/plain": [
       "(884, 2405)"
      ]
     },
     "execution_count": 3,
     "metadata": {},
     "output_type": "execute_result"
    }
   ],
   "source": [
    "from sklearn.feature_extraction.text import TfidfVectorizer\n",
    "vectorizer = TfidfVectorizer()\n",
    "\n",
    "X_train_tfidf = vectorizer.fit_transform(X_train)\n",
    "X_test_tfidf = vectorizer.transform(X_test)\n",
    "\n",
    "X_train_tfidf.shape"
   ]
  },
  {
   "cell_type": "markdown",
   "metadata": {},
   "source": [
    "\n",
    "# Oversampling: SMOTE"
   ]
  },
  {
   "cell_type": "code",
   "execution_count": 7,
   "metadata": {},
   "outputs": [
    {
     "data": {
      "text/plain": [
       "Pengembangan Aplikasi dan Media Pembelajaran Teknologi dan Kejuruan              194\n",
       "Strategi Pembelajaran Teknologi dan Kejuruan                                     147\n",
       "Kurikulum Pendidikan Teknologi dan Kejuruan                                       72\n",
       "Intelligent Power and Advanced energy System (IPAES)                              68\n",
       "Rekayasa pengetahuan dan ilmu data (Knowledge Engineering and Data Science)       66\n",
       "Intelligent Power Electronics and Smart Grid (IPESG)                              64\n",
       "Ketenegakerjaan Teknologi dan Kejuruan                                            54\n",
       "Game Technology and Machine Learning Applications                                 53\n",
       "Evaluasi dan Pengelolaan Pendidikan Kejuruan                                      47\n",
       "Telematics loT System and Devices                                                 44\n",
       "Teknologi Digital Cerdas (Ubiquitous Computing Technique)                         41\n",
       "Biomedic and Intelligent Assistive Technology (TAT)                               19\n",
       "Sistem Dinamis, Kendali, dan Robotika (Dynamic Systems, Control and Robotics)     15\n",
       "Name: kbk, dtype: int64"
      ]
     },
     "execution_count": 7,
     "metadata": {},
     "output_type": "execute_result"
    }
   ],
   "source": [
    "y_train.value_counts()"
   ]
  },
  {
   "cell_type": "code",
   "execution_count": 8,
   "metadata": {},
   "outputs": [
    {
     "data": {
      "text/plain": [
       "Game Technology and Machine Learning Applications                                194\n",
       "Teknologi Digital Cerdas (Ubiquitous Computing Technique)                        194\n",
       "Strategi Pembelajaran Teknologi dan Kejuruan                                     194\n",
       "Rekayasa pengetahuan dan ilmu data (Knowledge Engineering and Data Science)      194\n",
       "Biomedic and Intelligent Assistive Technology (TAT)                              194\n",
       "Pengembangan Aplikasi dan Media Pembelajaran Teknologi dan Kejuruan              194\n",
       "Intelligent Power Electronics and Smart Grid (IPESG)                             194\n",
       "Evaluasi dan Pengelolaan Pendidikan Kejuruan                                     194\n",
       "Sistem Dinamis, Kendali, dan Robotika (Dynamic Systems, Control and Robotics)    194\n",
       "Kurikulum Pendidikan Teknologi dan Kejuruan                                      194\n",
       "Intelligent Power and Advanced energy System (IPAES)                             194\n",
       "Ketenegakerjaan Teknologi dan Kejuruan                                           194\n",
       "Telematics loT System and Devices                                                194\n",
       "Name: kbk, dtype: int64"
      ]
     },
     "execution_count": 8,
     "metadata": {},
     "output_type": "execute_result"
    }
   ],
   "source": [
    "from imblearn.over_sampling import SMOTE\n",
    "\n",
    "X_train_resampled, y_train_resampled = SMOTE(random_state=42).fit_resample(X_train_tfidf, y_train)\n",
    "\n",
    "y_train_resampled.value_counts()"
   ]
  },
  {
   "cell_type": "markdown",
   "metadata": {},
   "source": [
    "# Training Model"
   ]
  },
  {
   "cell_type": "code",
   "execution_count": 9,
   "metadata": {},
   "outputs": [
    {
     "data": {
      "text/plain": [
       "['mean_fit_time',\n",
       " 'mean_score_time',\n",
       " 'mean_test_score',\n",
       " 'param_criterion',\n",
       " 'param_max_depth',\n",
       " 'params',\n",
       " 'rank_test_score',\n",
       " 'split0_test_score',\n",
       " 'split1_test_score',\n",
       " 'split2_test_score',\n",
       " 'split3_test_score',\n",
       " 'split4_test_score',\n",
       " 'split5_test_score',\n",
       " 'split6_test_score',\n",
       " 'split7_test_score',\n",
       " 'split8_test_score',\n",
       " 'split9_test_score',\n",
       " 'std_fit_time',\n",
       " 'std_score_time',\n",
       " 'std_test_score']"
      ]
     },
     "execution_count": 9,
     "metadata": {},
     "output_type": "execute_result"
    }
   ],
   "source": [
    "from sklearn.tree import DecisionTreeClassifier\n",
    "from sklearn.model_selection import GridSearchCV\n",
    "\n",
    "parameters = {'criterion':['gini','entropy'],'max_depth':[4,5,6,7,8,9,10,11,12,15,20,30,40,50,70,90,120,150]}\n",
    "dtc = DecisionTreeClassifier()\n",
    "clf = GridSearchCV(dtc, parameters, cv=10)\n",
    "\n",
    "model = clf.fit(X_train_resampled,y_train_resampled)\n",
    "sorted(model.cv_results_.keys())"
   ]
  },
  {
   "cell_type": "markdown",
   "metadata": {},
   "source": [
    "# Evaluation"
   ]
  },
  {
   "cell_type": "code",
   "execution_count": 10,
   "metadata": {},
   "outputs": [],
   "source": [
    "predictions = model.predict(X_test_tfidf)"
   ]
  },
  {
   "cell_type": "code",
   "execution_count": 11,
   "metadata": {},
   "outputs": [
    {
     "name": "stdout",
     "output_type": "stream",
     "text": [
      "[[ 2  0  0  1  3  0  0  0  2  2  0  1  2]\n",
      " [ 0  3  1  1  0  5  1  1  0  0  3  0  0]\n",
      " [ 0  0 15  2  3  0  0  1  2  1  0  3  0]\n",
      " [ 0  1  0  8 10  1  0  1  1  0  0  0  2]\n",
      " [ 0  1  0  5 11  0  1  2  2  0  0  0  0]\n",
      " [ 0  7  2  1  1 16  2  0  0  1  1  0  0]\n",
      " [ 0  3  0  0  0  7  5  3  0  0  5  0  0]\n",
      " [ 0  7  1  1  1  0  4 60  0  1  9  3  1]\n",
      " [ 1  0 11  2  3  0  1  0 15  0  0  0  0]\n",
      " [ 0  0  1  1  1  0  0  0  1  2  0  0  1]\n",
      " [ 0  8  0  0  0  1  2 14  0  0 37  0  0]\n",
      " [ 1  0  0  1  1  0  0  1  2  0  0 14  1]\n",
      " [ 0  0  0  1  2  0  0  0  1  0  0  1  9]]\n"
     ]
    }
   ],
   "source": [
    "# Report the confusion matrix\n",
    "from sklearn import metrics\n",
    "print(metrics.confusion_matrix(y_test,predictions))"
   ]
  },
  {
   "cell_type": "code",
   "execution_count": 12,
   "metadata": {},
   "outputs": [
    {
     "name": "stdout",
     "output_type": "stream",
     "text": [
      "                                                                               precision    recall  f1-score   support\n",
      "\n",
      "                          Biomedic and Intelligent Assistive Technology (TAT)       0.50      0.15      0.24        13\n",
      "                                 Evaluasi dan Pengelolaan Pendidikan Kejuruan       0.10      0.20      0.13        15\n",
      "                            Game Technology and Machine Learning Applications       0.48      0.56      0.52        27\n",
      "                         Intelligent Power Electronics and Smart Grid (IPESG)       0.33      0.33      0.33        24\n",
      "                         Intelligent Power and Advanced energy System (IPAES)       0.31      0.50      0.38        22\n",
      "                                       Ketenegakerjaan Teknologi dan Kejuruan       0.53      0.52      0.52        31\n",
      "                                  Kurikulum Pendidikan Teknologi dan Kejuruan       0.31      0.22      0.26        23\n",
      "          Pengembangan Aplikasi dan Media Pembelajaran Teknologi dan Kejuruan       0.72      0.68      0.70        88\n",
      "  Rekayasa pengetahuan dan ilmu data (Knowledge Engineering and Data Science)       0.58      0.45      0.51        33\n",
      "Sistem Dinamis, Kendali, dan Robotika (Dynamic Systems, Control and Robotics)       0.29      0.29      0.29         7\n",
      "                                 Strategi Pembelajaran Teknologi dan Kejuruan       0.67      0.60      0.63        62\n",
      "                    Teknologi Digital Cerdas (Ubiquitous Computing Technique)       0.64      0.67      0.65        21\n",
      "                                            Telematics loT System and Devices       0.56      0.64      0.60        14\n",
      "\n",
      "                                                                     accuracy                           0.52       380\n",
      "                                                                    macro avg       0.46      0.45      0.44       380\n",
      "                                                                 weighted avg       0.55      0.52      0.52       380\n",
      "\n"
     ]
    }
   ],
   "source": [
    "# Print a classification report\n",
    "print(metrics.classification_report(y_test,predictions))"
   ]
  },
  {
   "cell_type": "code",
   "execution_count": 13,
   "metadata": {},
   "outputs": [
    {
     "name": "stdout",
     "output_type": "stream",
     "text": [
      "Accuracy score :  0.5184210526315789\n",
      "Precision score :  0.5450216271765841\n",
      "Recall score :  0.5184210526315789\n",
      "F1 score :  0.5246080003594443\n"
     ]
    }
   ],
   "source": [
    "from sklearn.metrics import accuracy_score, precision_score, recall_score, f1_score\n",
    "# Print the overall metrics\n",
    "print('Accuracy score : ', accuracy_score(y_test, predictions))\n",
    "print('Precision score : ', precision_score(y_test, predictions, average='weighted'))\n",
    "print('Recall score : ', recall_score(y_test, predictions, average='weighted'))\n",
    "print('F1 score : ', f1_score(y_test, predictions, average='weighted'))"
   ]
  },
  {
   "cell_type": "markdown",
   "metadata": {},
   "source": [
    "# Export Model"
   ]
  },
  {
   "cell_type": "code",
   "execution_count": 14,
   "metadata": {},
   "outputs": [],
   "source": [
    "# from joblib import dump\n",
    "\n",
    "# dump(model, filename=\"svm-model.joblib\")"
   ]
  }
 ],
 "metadata": {
  "kernelspec": {
   "display_name": "Python 3 (ipykernel)",
   "language": "python",
   "name": "python3"
  },
  "language_info": {
   "codemirror_mode": {
    "name": "ipython",
    "version": 3
   },
   "file_extension": ".py",
   "mimetype": "text/x-python",
   "name": "python",
   "nbconvert_exporter": "python",
   "pygments_lexer": "ipython3",
   "version": "3.9.7"
  },
  "vscode": {
   "interpreter": {
    "hash": "a90aeebcf29d64a654773811cc170cb25061cb2498f10ac689db374c7bf325de"
   }
  }
 },
 "nbformat": 4,
 "nbformat_minor": 2
}
