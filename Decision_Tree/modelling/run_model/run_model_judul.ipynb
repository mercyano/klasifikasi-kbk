{
 "cells": [
  {
   "cell_type": "code",
   "execution_count": 1,
   "id": "36fabe66",
   "metadata": {},
   "outputs": [],
   "source": [
    "import numpy as np\n",
    "import pandas as pd\n",
    "import joblib\n",
    "\n",
    "model = joblib.load('../model/dtc-model.joblib')\n",
    "vectorizer = joblib.load('../model/vectorizer_model_judul.joblib')"
   ]
  },
  {
   "cell_type": "code",
   "execution_count": 2,
   "id": "834c2a52",
   "metadata": {},
   "outputs": [],
   "source": [
    "df = pd.read_csv('../../../cleaned-data-kbk.csv', index_col=0)"
   ]
  },
  {
   "cell_type": "code",
   "execution_count": 3,
   "id": "02d1cde5",
   "metadata": {},
   "outputs": [],
   "source": [
    "from sklearn.model_selection import train_test_split\n",
    "\n",
    "X = df['judul_tokens']\n",
    "y = df['kbk']\n",
    "\n",
    "X_train, X_test, y_train, y_test = train_test_split(X, y, test_size=0.3, random_state=42)"
   ]
  },
  {
   "cell_type": "code",
   "execution_count": 4,
   "id": "694fba38",
   "metadata": {},
   "outputs": [
    {
     "data": {
      "text/plain": [
       "(884, 2337)"
      ]
     },
     "execution_count": 4,
     "metadata": {},
     "output_type": "execute_result"
    }
   ],
   "source": [
    "X_train_tfidf = vectorizer.fit_transform(X_train)\n",
    "X_test_tfidf = vectorizer.transform(X_test)\n",
    "\n",
    "X_train_tfidf.shape"
   ]
  },
  {
   "cell_type": "code",
   "execution_count": 5,
   "id": "5be96e28",
   "metadata": {},
   "outputs": [],
   "source": [
    "predictions = model.predict(X_test_tfidf)"
   ]
  },
  {
   "cell_type": "markdown",
   "id": "3671645f",
   "metadata": {},
   "source": [
    "# Grafik Perbandingan"
   ]
  },
  {
   "cell_type": "code",
   "execution_count": 6,
   "id": "9fa5177f",
   "metadata": {},
   "outputs": [
    {
     "data": {
      "image/png": "[encoded data removed]",
      "text/plain": [
       "<Figure size 432x288 with 1 Axes>"
      ]
     },
     "metadata": {
      "needs_background": "light"
     },
     "output_type": "display_data"
    }
   ],
   "source": [
    "from sklearn.metrics import accuracy_score, precision_score, recall_score, f1_score\n",
    "import matplotlib.pyplot as plt\n",
    "import numpy as np\n",
    "\n",
    "w=0.2\n",
    "x = [\"Accuracy score\", \"Precision score\",\"Recall score\"]\n",
    "judul = [accuracy_score(y_test, predictions), precision_score(y_test, predictions, average='weighted'), recall_score(y_test, predictions, average='weighted')]\n",
    "abstrak = [0.1, 0.1, 0.1]\n",
    "judul_abstrak = [0.1, 0.1, 0.1]\n",
    "\n",
    "fig, ax = plt.subplots()\n",
    "bar1 = np.arange(len(x)) \n",
    "bar2 = [i+w for i in bar1] \n",
    "bar3 = [i+w for i in bar2]\n",
    "\n",
    "plt.bar(bar1, judul,w,label=\"Judul\") \n",
    "plt.bar(bar2, abstrak,w,label=\"Abstrak\") \n",
    "plt.bar(bar3, judul_abstrak, w, label=\"Judul dan Abstrak\")\n",
    "\n",
    "fig.tight_layout()\n",
    "\n",
    "ax.set_ylabel('Scores')\n",
    "ax.set_title('Scores Berdasarkan Atribut Penelitian')\n",
    "ax.set_xticks(bar1+w, x)\n",
    "ax.legend()\n",
    "plt.show()"
   ]
  },
  {
   "cell_type": "markdown",
   "id": "1966b802",
   "metadata": {},
   "source": [
    "# Demo"
   ]
  },
  {
   "cell_type": "code",
   "execution_count": 7,
   "id": "991cf01f",
   "metadata": {},
   "outputs": [
    {
     "name": "stdout",
     "output_type": "stream",
     "text": [
      "Masukkan judul Skripsi:\n",
      "klasifikasi judul skripsi berdasarkan kbk dengan metode decision tree\n",
      "Judul Skripsi: klasifikasi judul skripsi berdasarkan kbk dengan metode decision tree\n",
      "                             Kelompok Bidang Keahlian  Probability\n",
      "8   Rekayasa pengetahuan dan ilmu data (Knowledge ...     0.871429\n",
      "2   Game Technology and Machine Learning Applications     0.128571\n",
      "0   Biomedic and Intelligent Assistive Technology ...     0.000000\n",
      "1        Evaluasi dan Pengelolaan Pendidikan Kejuruan     0.000000\n",
      "3   Intelligent Power Electronics and Smart Grid (...     0.000000\n",
      "4   Intelligent Power and Advanced energy System (...     0.000000\n",
      "5              Ketenegakerjaan Teknologi dan Kejuruan     0.000000\n",
      "6         Kurikulum Pendidikan Teknologi dan Kejuruan     0.000000\n",
      "7   Pengembangan Aplikasi dan Media Pembelajaran T...     0.000000\n",
      "9   Sistem Dinamis, Kendali, dan Robotika (Dynamic...     0.000000\n",
      "10       Strategi Pembelajaran Teknologi dan Kejuruan     0.000000\n",
      "11  Teknologi Digital Cerdas (Ubiquitous Computing...     0.000000\n",
      "12                  Telematics loT System and Devices     0.000000\n"
     ]
    }
   ],
   "source": [
    "title_input = input(\"Masukkan judul Skripsi:\\n\")\n",
    "\n",
    "hasil = model.predict_proba(vectorizer.transform([title_input]))\n",
    "\n",
    "print(f\"Judul Skripsi: {title_input}\")\n",
    "\n",
    "list1 = hasil.tolist()\n",
    "cls = model.classes_\n",
    "list2 = cls.tolist()\n",
    "\n",
    "d = {\"Kelompok Bidang Keahlian\":list2,\"Probability\":list1[0]}\n",
    "df_proba = pd.DataFrame(d)\n",
    "\n",
    "print(df_proba.sort_values(\"Probability\", ascending=False))\n",
    "\n",
    "# klasifikasi judul skripsi berdasarkan kbk dengan metode decision tree"
   ]
  }
 ],
 "metadata": {
  "kernelspec": {
   "display_name": "Python 3 (ipykernel)",
   "language": "python",
   "name": "python3"
  },
  "language_info": {
   "codemirror_mode": {
    "name": "ipython",
    "version": 3
   },
   "file_extension": ".py",
   "mimetype": "text/x-python",
   "name": "python",
   "nbconvert_exporter": "python",
   "pygments_lexer": "ipython3",
   "version": "3.9.7"
  }
 },
 "nbformat": 4,
 "nbformat_minor": 5
}
