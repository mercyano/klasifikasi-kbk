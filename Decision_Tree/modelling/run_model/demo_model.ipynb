{
 "cells": [
  {
   "cell_type": "markdown",
   "id": "51e0dc3d",
   "metadata": {},
   "source": [
    "# Demo Model"
   ]
  },
  {
   "cell_type": "code",
   "execution_count": 1,
   "id": "6341098e",
   "metadata": {},
   "outputs": [],
   "source": [
    "import numpy as np\n",
    "import pandas as pd\n",
    "import joblib\n",
    "\n",
    "#tambahkan vectorizer tiap atribut yang telah disimpan di bawah sini\n",
    "vectorizer_judul = joblib.load('../model/vectorizer_model_judul.joblib')\n",
    "vectorizer_abstrak = joblib.load('../model/vectorizer_model_abstrak.joblib')\n",
    "vectorizer_judul_abstrak = joblib.load('../model/vectorizer_model_judtrak.joblib')\n",
    "\n",
    "#tambahkan model tiap atribut yang telah disimpan di bawah sini \n",
    "model_judul = joblib.load('../model/dtc-model.joblib')\n",
    "model_abstrak = joblib.load('../model/dtc-model-abstrak.joblib')\n",
    "model_judul_abstrak = joblib.load('../model/dtc-model-judtrak.joblib')"
   ]
  },
  {
   "cell_type": "markdown",
   "id": "1f169abf",
   "metadata": {},
   "source": [
    "# Judul"
   ]
  },
  {
   "cell_type": "code",
   "execution_count": 2,
   "id": "9ef68586",
   "metadata": {
    "scrolled": true
   },
   "outputs": [
    {
     "name": "stdout",
     "output_type": "stream",
     "text": [
      "Masukkan judul Skripsi:\n",
      "klasifikasi judul skripsi berdasarkan kbk dengan metode decision tree\n",
      "Judul Skripsi: klasifikasi judul skripsi berdasarkan kbk dengan metode decision tree\n",
      "                             Kelompok Bidang Keahlian  Probability\n",
      "8   Rekayasa pengetahuan dan ilmu data (Knowledge ...     0.871429\n",
      "2   Game Technology and Machine Learning Applications     0.128571\n",
      "0   Biomedic and Intelligent Assistive Technology ...     0.000000\n",
      "1        Evaluasi dan Pengelolaan Pendidikan Kejuruan     0.000000\n",
      "3   Intelligent Power Electronics and Smart Grid (...     0.000000\n",
      "4   Intelligent Power and Advanced energy System (...     0.000000\n",
      "5              Ketenegakerjaan Teknologi dan Kejuruan     0.000000\n",
      "6         Kurikulum Pendidikan Teknologi dan Kejuruan     0.000000\n",
      "7   Pengembangan Aplikasi dan Media Pembelajaran T...     0.000000\n",
      "9   Sistem Dinamis, Kendali, dan Robotika (Dynamic...     0.000000\n",
      "10       Strategi Pembelajaran Teknologi dan Kejuruan     0.000000\n",
      "11  Teknologi Digital Cerdas (Ubiquitous Computing...     0.000000\n",
      "12                  Telematics loT System and Devices     0.000000\n"
     ]
    }
   ],
   "source": [
    "title_input = input(\"Masukkan judul Skripsi:\\n\")\n",
    "\n",
    "'''\n",
    "Catatan input judul\n",
    "klasifikasi judul skripsi berdasarkan kbk dengan metode decision tree\n",
    "'''\n",
    "\n",
    "hasil = model_judul.predict_proba(vectorizer_judul.transform([title_input]))\n",
    "\n",
    "print(f\"Judul Skripsi: {title_input}\")\n",
    "\n",
    "list1 = hasil.tolist()\n",
    "cls = model_judul.classes_\n",
    "list2 = cls.tolist()\n",
    "\n",
    "d = {\"Kelompok Bidang Keahlian\":list2,\"Probability\":list1[0]}\n",
    "df_proba = pd.DataFrame(d)\n",
    "\n",
    "print(df_proba.sort_values(\"Probability\", ascending=False))"
   ]
  },
  {
   "cell_type": "markdown",
   "id": "46e6f1ba",
   "metadata": {},
   "source": [
    "# Abstrak"
   ]
  },
  {
   "cell_type": "code",
   "execution_count": 3,
   "id": "1adabdea",
   "metadata": {},
   "outputs": [
    {
     "name": "stdout",
     "output_type": "stream",
     "text": [
      "Masukkan abstrak Skripsi:\n",
      "sisinta um adalah sistem informasi berbasis website bertujuan untuk menampilkan data yang berkaitan dengan skripsi dan tugas akhir pada jurusan teknik elektro fakultas teknik universitas negeri malang. penggunaan sistem informasi sisinta memiliki potensi jika dikembangkan dengan mengklasifikasikan judul dan abstrak berdasarkan tema penelitiannya. tujuan penelitian ini adalah untuk menerapkan dan menguji performa algoritma decision tree classifier dalam mengklasifikasi judul skripsi dan tugas akhir, berdasarkan tema penelitian dalam kbk di jurusan teknik elektro ft um. decision tree classifier adalah algoritma supervised learning non-parametrik, yang digunakan untuk klasifikasi dan regresi. decision tree memiliki hierarki, struktur pohon, yang terdiri dari root node, branches, internal nodes dan leaf nodes. dengan menggunakan metode decision tree classifier dalam implementasinya diharapkan dapat memprediksi jenis kelompok bidang keahlian yang sesuai. data yang digunakan dalam penelitian sistem klasifikasi ini didapatkan dari database sisinta te-um berupa judul, abstrak, dan kbk yang terkait dengan tema penelitian pada skripsi dan tugas akhir tersebut.\n",
      "Abstrak Skripsi: sisinta um adalah sistem informasi berbasis website bertujuan untuk menampilkan data yang berkaitan dengan skripsi dan tugas akhir pada jurusan teknik elektro fakultas teknik universitas negeri malang. penggunaan sistem informasi sisinta memiliki potensi jika dikembangkan dengan mengklasifikasikan judul dan abstrak berdasarkan tema penelitiannya. tujuan penelitian ini adalah untuk menerapkan dan menguji performa algoritma decision tree classifier dalam mengklasifikasi judul skripsi dan tugas akhir, berdasarkan tema penelitian dalam kbk di jurusan teknik elektro ft um. decision tree classifier adalah algoritma supervised learning non-parametrik, yang digunakan untuk klasifikasi dan regresi. decision tree memiliki hierarki, struktur pohon, yang terdiri dari root node, branches, internal nodes dan leaf nodes. dengan menggunakan metode decision tree classifier dalam implementasinya diharapkan dapat memprediksi jenis kelompok bidang keahlian yang sesuai. data yang digunakan dalam penelitian sistem klasifikasi ini didapatkan dari database sisinta te-um berupa judul, abstrak, dan kbk yang terkait dengan tema penelitian pada skripsi dan tugas akhir tersebut.\n",
      "                             Kelompok Bidang Keahlian  Probability\n",
      "2   Game Technology and Machine Learning Applications     0.290667\n",
      "8   Rekayasa pengetahuan dan ilmu data (Knowledge ...     0.194667\n",
      "1        Evaluasi dan Pengelolaan Pendidikan Kejuruan     0.093333\n",
      "11  Teknologi Digital Cerdas (Ubiquitous Computing...     0.093333\n",
      "6         Kurikulum Pendidikan Teknologi dan Kejuruan     0.074667\n",
      "5              Ketenegakerjaan Teknologi dan Kejuruan     0.061333\n",
      "7   Pengembangan Aplikasi dan Media Pembelajaran T...     0.050667\n",
      "4   Intelligent Power and Advanced energy System (...     0.042667\n",
      "9   Sistem Dinamis, Kendali, dan Robotika (Dynamic...     0.040000\n",
      "3   Intelligent Power Electronics and Smart Grid (...     0.024000\n",
      "12                  Telematics loT System and Devices     0.024000\n",
      "10       Strategi Pembelajaran Teknologi dan Kejuruan     0.008000\n",
      "0   Biomedic and Intelligent Assistive Technology ...     0.002667\n"
     ]
    }
   ],
   "source": [
    "title_input = input(\"Masukkan abstrak Skripsi:\\n\")\n",
    "\n",
    "'''\n",
    "Catatan input abstrak\n",
    "sisinta um adalah sistem informasi berbasis website bertujuan untuk menampilkan data yang berkaitan dengan skripsi dan tugas akhir pada jurusan teknik elektro fakultas teknik universitas negeri malang. penggunaan sistem informasi sisinta memiliki potensi jika dikembangkan dengan mengklasifikasikan judul dan abstrak berdasarkan tema penelitiannya. tujuan penelitian ini adalah untuk menerapkan dan menguji performa algoritma decision tree classifier dalam mengklasifikasi judul skripsi dan tugas akhir, berdasarkan tema penelitian dalam kbk di jurusan teknik elektro ft um. decision tree classifier adalah algoritma supervised learning non-parametrik, yang digunakan untuk klasifikasi dan regresi. decision tree memiliki hierarki, struktur pohon, yang terdiri dari root node, branches, internal nodes dan leaf nodes. dengan menggunakan metode decision tree classifier dalam implementasinya diharapkan dapat memprediksi jenis kelompok bidang keahlian yang sesuai. data yang digunakan dalam penelitian sistem klasifikasi ini didapatkan dari database sisinta te-um berupa judul, abstrak, dan kbk yang terkait dengan tema penelitian pada skripsi dan tugas akhir tersebut.\n",
    "'''\n",
    "\n",
    "hasil = model_abstrak.predict_proba(vectorizer_abstrak.transform([title_input]))\n",
    "\n",
    "print(f\"Abstrak Skripsi: {title_input}\")\n",
    "\n",
    "list1 = hasil.tolist()\n",
    "cls = model_abstrak.classes_\n",
    "list2 = cls.tolist()\n",
    "\n",
    "d = {\"Kelompok Bidang Keahlian\":list2,\"Probability\":list1[0]}\n",
    "df_proba = pd.DataFrame(d)\n",
    "\n",
    "print(df_proba.sort_values(\"Probability\", ascending=False))"
   ]
  },
  {
   "cell_type": "markdown",
   "id": "aca9770f",
   "metadata": {},
   "source": [
    "# Judul dan Abstrak"
   ]
  },
  {
   "cell_type": "code",
   "execution_count": 4,
   "id": "4f307faa",
   "metadata": {},
   "outputs": [
    {
     "name": "stdout",
     "output_type": "stream",
     "text": [
      "Masukkan judul dan abstrak Skripsi:\n",
      "klasifikasi judul skripsi berdasarkan kbk dengan metode decision tree sisinta um adalah sistem informasi berbasis website bertujuan untuk menampilkan data yang berkaitan dengan skripsi dan tugas akhir pada jurusan teknik elektro fakultas teknik universitas negeri malang. penggunaan sistem informasi sisinta memiliki potensi jika dikembangkan dengan mengklasifikasikan judul dan abstrak berdasarkan tema penelitiannya. tujuan penelitian ini adalah untuk menerapkan dan menguji performa algoritma decision tree classifier dalam mengklasifikasi judul skripsi dan tugas akhir, berdasarkan tema penelitian dalam kbk di jurusan teknik elektro ft um. decision tree classifier adalah algoritma supervised learning non-parametrik, yang digunakan untuk klasifikasi dan regresi. decision tree memiliki hierarki, struktur pohon, yang terdiri dari root node, branches, internal nodes dan leaf nodes. dengan menggunakan metode decision tree classifier dalam implementasinya diharapkan dapat memprediksi jenis kelompok bidang keahlian yang sesuai. data yang digunakan dalam penelitian sistem klasifikasi ini didapatkan dari database sisinta te-um berupa judul, abstrak, dan kbk yang terkait dengan tema penelitian pada skripsi dan tugas akhir tersebut.\n",
      "Judul dan Abstrak Skripsi: klasifikasi judul skripsi berdasarkan kbk dengan metode decision tree sisinta um adalah sistem informasi berbasis website bertujuan untuk menampilkan data yang berkaitan dengan skripsi dan tugas akhir pada jurusan teknik elektro fakultas teknik universitas negeri malang. penggunaan sistem informasi sisinta memiliki potensi jika dikembangkan dengan mengklasifikasikan judul dan abstrak berdasarkan tema penelitiannya. tujuan penelitian ini adalah untuk menerapkan dan menguji performa algoritma decision tree classifier dalam mengklasifikasi judul skripsi dan tugas akhir, berdasarkan tema penelitian dalam kbk di jurusan teknik elektro ft um. decision tree classifier adalah algoritma supervised learning non-parametrik, yang digunakan untuk klasifikasi dan regresi. decision tree memiliki hierarki, struktur pohon, yang terdiri dari root node, branches, internal nodes dan leaf nodes. dengan menggunakan metode decision tree classifier dalam implementasinya diharapkan dapat memprediksi jenis kelompok bidang keahlian yang sesuai. data yang digunakan dalam penelitian sistem klasifikasi ini didapatkan dari database sisinta te-um berupa judul, abstrak, dan kbk yang terkait dengan tema penelitian pada skripsi dan tugas akhir tersebut.\n",
      "                             Kelompok Bidang Keahlian  Probability\n",
      "3   Intelligent Power Electronics and Smart Grid (...          1.0\n",
      "0   Biomedic and Intelligent Assistive Technology ...          0.0\n",
      "1        Evaluasi dan Pengelolaan Pendidikan Kejuruan          0.0\n",
      "2   Game Technology and Machine Learning Applications          0.0\n",
      "4   Intelligent Power and Advanced energy System (...          0.0\n",
      "5              Ketenegakerjaan Teknologi dan Kejuruan          0.0\n",
      "6         Kurikulum Pendidikan Teknologi dan Kejuruan          0.0\n",
      "7   Pengembangan Aplikasi dan Media Pembelajaran T...          0.0\n",
      "8   Rekayasa pengetahuan dan ilmu data (Knowledge ...          0.0\n",
      "9   Sistem Dinamis, Kendali, dan Robotika (Dynamic...          0.0\n",
      "10       Strategi Pembelajaran Teknologi dan Kejuruan          0.0\n",
      "11  Teknologi Digital Cerdas (Ubiquitous Computing...          0.0\n",
      "12                  Telematics loT System and Devices          0.0\n"
     ]
    }
   ],
   "source": [
    "title_input = input(\"Masukkan judul dan abstrak Skripsi:\\n\")\n",
    "\n",
    "'''\n",
    "Catatan input judul dan abstrak\n",
    "klasifikasi judul skripsi berdasarkan kbk dengan metode decision tree sisinta um adalah sistem informasi berbasis website bertujuan untuk menampilkan data yang berkaitan dengan skripsi dan tugas akhir pada jurusan teknik elektro fakultas teknik universitas negeri malang. penggunaan sistem informasi sisinta memiliki potensi jika dikembangkan dengan mengklasifikasikan judul dan abstrak berdasarkan tema penelitiannya. tujuan penelitian ini adalah untuk menerapkan dan menguji performa algoritma decision tree classifier dalam mengklasifikasi judul skripsi dan tugas akhir, berdasarkan tema penelitian dalam kbk di jurusan teknik elektro ft um. decision tree classifier adalah algoritma supervised learning non-parametrik, yang digunakan untuk klasifikasi dan regresi. decision tree memiliki hierarki, struktur pohon, yang terdiri dari root node, branches, internal nodes dan leaf nodes. dengan menggunakan metode decision tree classifier dalam implementasinya diharapkan dapat memprediksi jenis kelompok bidang keahlian yang sesuai. data yang digunakan dalam penelitian sistem klasifikasi ini didapatkan dari database sisinta te-um berupa judul, abstrak, dan kbk yang terkait dengan tema penelitian pada skripsi dan tugas akhir tersebut.\n",
    "'''\n",
    "\n",
    "hasil = model_judul_abstrak.predict_proba(vectorizer_judul_abstrak.transform([title_input]))\n",
    "\n",
    "print(f\"Judul dan Abstrak Skripsi: {title_input}\")\n",
    "\n",
    "list1 = hasil.tolist()\n",
    "cls = model_judul_abstrak.classes_\n",
    "list2 = cls.tolist()\n",
    "\n",
    "d = {\"Kelompok Bidang Keahlian\":list2,\"Probability\":list1[0]}\n",
    "df_proba = pd.DataFrame(d)\n",
    "\n",
    "print(df_proba.sort_values(\"Probability\", ascending=False))"
   ]
  }
 ],
 "metadata": {
  "kernelspec": {
   "display_name": "Python 3 (ipykernel)",
   "language": "python",
   "name": "python3"
  },
  "language_info": {
   "codemirror_mode": {
    "name": "ipython",
    "version": 3
   },
   "file_extension": ".py",
   "mimetype": "text/x-python",
   "name": "python",
   "nbconvert_exporter": "python",
   "pygments_lexer": "ipython3",
   "version": "3.9.7"
  }
 },
 "nbformat": 4,
 "nbformat_minor": 5
}
