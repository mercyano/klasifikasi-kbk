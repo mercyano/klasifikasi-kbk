{
 "cells": [
  {
   "cell_type": "code",
   "execution_count": 1,
   "id": "36fabe66",
   "metadata": {},
   "outputs": [],
   "source": [
    "import numpy as np\n",
    "import pandas as pd\n",
    "import joblib\n",
    "\n",
    "#tambahkan vectorizer tiap atribut yang telah disimpan di bawah sini\n",
    "vectorizer_judul = joblib.load('../model/vectorizer_model_judul.joblib')\n",
    "vectorizer_abstrak = joblib.load('../model/vectorizer_model_abstrak.joblib')\n",
    "vectorizer_judul_abstrak = joblib.load('../model/vectorizer_model_judtrak.joblib')\n",
    "\n",
    "#tambahkan model tiap atribut yang telah disimpan di bawah sini \n",
    "model_judul = joblib.load('../model/dtc-model.joblib')\n",
    "model_abstrak = joblib.load('../model/dtc-model-abstrak.joblib')\n",
    "model_judul_abstrak = joblib.load('../model/dtc-model-judtrak.joblib')"
   ]
  },
  {
   "cell_type": "code",
   "execution_count": 2,
   "id": "834c2a52",
   "metadata": {},
   "outputs": [],
   "source": [
    "df = pd.read_csv('../../../cleaned-data-kbk.csv', index_col=0)"
   ]
  },
  {
   "cell_type": "markdown",
   "id": "89b8b1c1",
   "metadata": {},
   "source": [
    "# Judul"
   ]
  },
  {
   "cell_type": "code",
   "execution_count": 3,
   "id": "02d1cde5",
   "metadata": {},
   "outputs": [],
   "source": [
    "from sklearn.model_selection import train_test_split\n",
    "\n",
    "X_judul = df['judul_tokens']\n",
    "y = df['kbk']\n",
    "\n",
    "X_train_judul, X_test_judul, y_train_judul, y_test_judul = train_test_split(X_judul, y, test_size=0.3, random_state=42)"
   ]
  },
  {
   "cell_type": "code",
   "execution_count": 4,
   "id": "694fba38",
   "metadata": {},
   "outputs": [
    {
     "data": {
      "text/plain": [
       "(884, 2337)"
      ]
     },
     "execution_count": 4,
     "metadata": {},
     "output_type": "execute_result"
    }
   ],
   "source": [
    "X_train_tfidf_judul = vectorizer_judul.fit_transform(X_train_judul)\n",
    "X_test_tfidf_judul = vectorizer_judul.transform(X_test_judul)\n",
    "\n",
    "X_train_tfidf_judul.shape"
   ]
  },
  {
   "cell_type": "markdown",
   "id": "02111fbf",
   "metadata": {},
   "source": [
    "# Abstrak"
   ]
  },
  {
   "cell_type": "code",
   "execution_count": 5,
   "id": "58753ee8",
   "metadata": {},
   "outputs": [],
   "source": [
    "from sklearn.model_selection import train_test_split\n",
    "\n",
    "X_abstrak = df['abstrak_tokens']\n",
    "\n",
    "X_train_abstrak, X_test_abstrak, y_train_abstrak, y_test_abstrak = train_test_split(X_abstrak, y, test_size=0.3, random_state=42)"
   ]
  },
  {
   "cell_type": "code",
   "execution_count": 6,
   "id": "b7d846ec",
   "metadata": {
    "scrolled": true
   },
   "outputs": [
    {
     "data": {
      "text/plain": [
       "(884, 8704)"
      ]
     },
     "execution_count": 6,
     "metadata": {},
     "output_type": "execute_result"
    }
   ],
   "source": [
    "X_train_tfidf_abstrak = vectorizer_abstrak.fit_transform(X_train_abstrak)\n",
    "X_test_tfidf_abstrak = vectorizer_abstrak.transform(X_test_abstrak)\n",
    "\n",
    "X_train_tfidf_abstrak.shape"
   ]
  },
  {
   "cell_type": "markdown",
   "id": "8597d8e7",
   "metadata": {},
   "source": [
    "# Judul dan Abstrak"
   ]
  },
  {
   "cell_type": "code",
   "execution_count": 7,
   "id": "1f8a2a2f",
   "metadata": {},
   "outputs": [],
   "source": [
    "from sklearn.model_selection import train_test_split\n",
    "\n",
    "df['judtrak'] = [' '.join(i) for i in zip(df['judul'], df['abstrak'])]\n",
    "X_judul_abstrak = df['judtrak']\n",
    "\n",
    "X_train_judul_abstrak, X_test_judul_abstrak, y_train_judul_abstrak, y_test_judul_abstrak = train_test_split(X_judul_abstrak, y, test_size=0.3, random_state=42)"
   ]
  },
  {
   "cell_type": "code",
   "execution_count": 8,
   "id": "c1f5f064",
   "metadata": {
    "scrolled": true
   },
   "outputs": [
    {
     "data": {
      "text/plain": [
       "(884, 12047)"
      ]
     },
     "execution_count": 8,
     "metadata": {},
     "output_type": "execute_result"
    }
   ],
   "source": [
    "X_train_tfidf_judul_abstrak = vectorizer_judul_abstrak.fit_transform(X_train_judul_abstrak)\n",
    "X_test_tfidf_judul_abstrak = vectorizer_judul_abstrak.transform(X_test_judul_abstrak)\n",
    "\n",
    "X_train_tfidf_judul_abstrak.shape"
   ]
  },
  {
   "cell_type": "markdown",
   "id": "3671645f",
   "metadata": {},
   "source": [
    "# Grafik Perbandingan"
   ]
  },
  {
   "cell_type": "code",
   "execution_count": 9,
   "id": "5be96e28",
   "metadata": {
    "scrolled": true
   },
   "outputs": [],
   "source": [
    "predictions_judul = model_judul.predict(X_test_tfidf_judul)\n",
    "predictions_abstrak = model_abstrak.predict(X_test_tfidf_abstrak)\n",
    "predictions_judul_abstrak = model_judul_abstrak.predict(X_test_tfidf_judul_abstrak)"
   ]
  },
  {
   "cell_type": "code",
   "execution_count": 10,
   "id": "9fa5177f",
   "metadata": {},
   "outputs": [
    {
     "data": {
      "image/png": "[encoded data removed]",
      "text/plain": [
       "<Figure size 432x288 with 1 Axes>"
      ]
     },
     "metadata": {
      "needs_background": "light"
     },
     "output_type": "display_data"
    }
   ],
   "source": [
    "from sklearn.metrics import accuracy_score, precision_score, recall_score, f1_score\n",
    "import matplotlib.pyplot as plt\n",
    "import numpy as np\n",
    "\n",
    "w=0.2\n",
    "x = [\"Accuracy score\", \"Precision score\",\"Recall score\"]\n",
    "judul = [accuracy_score(y_test_judul, predictions_judul), precision_score(y_test_judul, predictions_judul, average='weighted'), recall_score(y_test_judul, predictions_judul, average='weighted')]\n",
    "abstrak = [accuracy_score(y_test_abstrak, predictions_abstrak), precision_score(y_test_abstrak, predictions_abstrak, average='weighted'), recall_score(y_test_abstrak, predictions_abstrak, average='weighted')]\n",
    "judul_abstrak = [accuracy_score(y_test_judul_abstrak, predictions_judul_abstrak), precision_score(y_test_judul_abstrak, predictions_judul_abstrak, average='weighted'), recall_score(y_test_judul_abstrak, predictions_judul_abstrak, average='weighted')]\n",
    "\n",
    "fig, ax = plt.subplots()\n",
    "bar1 = np.arange(len(x)) \n",
    "bar2 = [i+w for i in bar1] \n",
    "bar3 = [i+w for i in bar2]\n",
    "\n",
    "plt.bar(bar1, judul,w,label=\"Judul\") \n",
    "plt.bar(bar2, abstrak,w,label=\"Abstrak\") \n",
    "plt.bar(bar3, judul_abstrak, w, label=\"Judul dan Abstrak\")\n",
    "\n",
    "fig.tight_layout()\n",
    "\n",
    "ax.set_ylabel('Scores')\n",
    "ax.set_title('Scores Berdasarkan Atribut Penelitian')\n",
    "ax.set_xticks(bar1+w, x)\n",
    "ax.legend()\n",
    "plt.show()"
   ]
  }
 ],
 "metadata": {
  "kernelspec": {
   "display_name": "Python 3 (ipykernel)",
   "language": "python",
   "name": "python3"
  },
  "language_info": {
   "codemirror_mode": {
    "name": "ipython",
    "version": 3
   },
   "file_extension": ".py",
   "mimetype": "text/x-python",
   "name": "python",
   "nbconvert_exporter": "python",
   "pygments_lexer": "ipython3",
   "version": "3.9.7"
  }
 },
 "nbformat": 4,
 "nbformat_minor": 5
}
